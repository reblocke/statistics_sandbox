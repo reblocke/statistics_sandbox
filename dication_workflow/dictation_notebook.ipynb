{
 "cells": [
  {
   "cell_type": "markdown",
   "metadata": {},
   "source": [
    "## Workflow for transcribing audio files with whisper."
   ]
  },
  {
   "cell_type": "markdown",
   "metadata": {},
   "source": [
    "#### Create the filename"
   ]
  },
  {
   "cell_type": "code",
   "execution_count": 2,
   "metadata": {},
   "outputs": [
    {
     "name": "stdout",
     "output_type": "stream",
     "text": [
      "/Users/blocke/audio_transcripts/transcription_25-05-21_at_06-47.flac\n",
      "/Users/blocke/audio_transcripts/transcription_25-05-21_at_06-47.txt\n"
     ]
    }
   ],
   "source": [
    "import os\n",
    "import datetime\n",
    "import subprocess\n",
    "\n",
    "#working_folder = \"/Users/reblocke/audio_transcripts\"\n",
    "working_folder = \"/Users/blocke/audio_transcripts\"\n",
    "os.makedirs(working_folder, exist_ok=True)\n",
    "\n",
    "timestamp = datetime.datetime.now().strftime(\"transcription_%y-%m-%d_at_%H-%M.flac\")\n",
    "audio_output_path = os.path.join(working_folder, timestamp)\n",
    "text_output_path = os.path.splitext(audio_output_path)[0] + \".txt\"\n",
    "\n",
    "print(audio_output_path)\n",
    "print(text_output_path)"
   ]
  },
  {
   "cell_type": "markdown",
   "metadata": {},
   "source": [
    "#### Command to record the transcription"
   ]
  },
  {
   "cell_type": "markdown",
   "metadata": {},
   "source": [
    "Note, this can be done with the following terminal command:\n",
    "\n",
    "!ffmpeg -f avfoundation -i \":2\" -ac 1 -ar 16000 -b:a 192k output.wav   "
   ]
  },
  {
   "cell_type": "code",
   "execution_count": 4,
   "metadata": {},
   "outputs": [],
   "source": [
    "# Start ffmpeg and enable writing to its stdin.\n",
    "process = subprocess.Popen(\n",
    "    ['ffmpeg', '-f', 'avfoundation', '-i', ':2', '-ac', '1', '-ar', '16000', '-b:a', '192k', audio_output_path],\n",
    "    stdin=subprocess.PIPE\n",
    ")"
   ]
  },
  {
   "cell_type": "markdown",
   "metadata": {},
   "source": [
    "#### Run the below box to stop the recording"
   ]
  },
  {
   "cell_type": "code",
   "execution_count": 5,
   "metadata": {},
   "outputs": [
    {
     "name": "stderr",
     "output_type": "stream",
     "text": [
      "size=   22528kB time=00:14:54.14 bitrate= 206.4kbits/s speed=   1x    \n",
      "\n",
      "[q] command received. Exiting.\n",
      "\n",
      "[out#0/flac @ 0x132f1faf0] video:0kB audio:22760kB subtitle:0kB other streams:0kB global headers:0kB muxing overhead: 0.035562%\n",
      "size=   22768kB time=00:14:54.33 bitrate= 208.5kbits/s speed=   1x    \n"
     ]
    },
    {
     "data": {
      "text/plain": [
       "(None, None)"
      ]
     },
     "execution_count": 5,
     "metadata": {},
     "output_type": "execute_result"
    }
   ],
   "source": [
    "process.communicate(input=b'q')"
   ]
  },
  {
   "cell_type": "markdown",
   "metadata": {},
   "source": [
    "#### Command to transcribe the audio just recorded"
   ]
  },
  {
   "cell_type": "code",
   "execution_count": 7,
   "metadata": {},
   "outputs": [
    {
     "ename": "AttributeError",
     "evalue": "module 'whisper' has no attribute 'load_model'",
     "output_type": "error",
     "traceback": [
      "\u001b[0;31m---------------------------------------------------------------------------\u001b[0m",
      "\u001b[0;31mAttributeError\u001b[0m                            Traceback (most recent call last)",
      "Cell \u001b[0;32mIn[7], line 3\u001b[0m\n\u001b[1;32m      1\u001b[0m \u001b[38;5;28;01mimport\u001b[39;00m \u001b[38;5;21;01mwhisper\u001b[39;00m\n\u001b[0;32m----> 3\u001b[0m model \u001b[38;5;241m=\u001b[39m whisper\u001b[38;5;241m.\u001b[39mload_model(\u001b[38;5;124m\"\u001b[39m\u001b[38;5;124mturbo\u001b[39m\u001b[38;5;124m\"\u001b[39m)\n\u001b[1;32m      4\u001b[0m result \u001b[38;5;241m=\u001b[39m model\u001b[38;5;241m.\u001b[39mtranscribe(audio_output_path, fp16\u001b[38;5;241m=\u001b[39m\u001b[38;5;28;01mFalse\u001b[39;00m)\n\u001b[1;32m      5\u001b[0m \u001b[38;5;28mprint\u001b[39m(result[\u001b[38;5;124m\"\u001b[39m\u001b[38;5;124mtext\u001b[39m\u001b[38;5;124m\"\u001b[39m])\n",
      "\u001b[0;31mAttributeError\u001b[0m: module 'whisper' has no attribute 'load_model'"
     ]
    }
   ],
   "source": [
    "import whisper\n",
    "\n",
    "model = whisper.load_model(\"turbo\")\n",
    "result = model.transcribe(audio_output_path, fp16=False)\n",
    "print(result[\"text\"])\n",
    "with open(text_output_path, \"w\", encoding=\"utf-8\") as f:\n",
    "    f.write(result[\"text\"])"
   ]
  },
  {
   "cell_type": "markdown",
   "metadata": {},
   "source": [
    "#### Delete the output_path file"
   ]
  },
  {
   "cell_type": "code",
   "execution_count": null,
   "metadata": {},
   "outputs": [],
   "source": [
    "os.remove(audio_output_path)"
   ]
  }
 ],
 "metadata": {
  "kernelspec": {
   "display_name": "base",
   "language": "python",
   "name": "python3"
  },
  "language_info": {
   "codemirror_mode": {
    "name": "ipython",
    "version": 3
   },
   "file_extension": ".py",
   "mimetype": "text/x-python",
   "name": "python",
   "nbconvert_exporter": "python",
   "pygments_lexer": "ipython3",
   "version": "3.11.8"
  }
 },
 "nbformat": 4,
 "nbformat_minor": 2
}

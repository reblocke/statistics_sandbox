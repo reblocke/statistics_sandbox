{
 "cells": [
  {
   "cell_type": "markdown",
   "metadata": {},
   "source": [
    "# NLP Workshop \n",
    "\n",
    "March 8, 2024\n",
    "\n",
    "Course website: https://uofudelphi.github.io/2024-03-08-nlp/"
   ]
  },
  {
   "cell_type": "code",
   "execution_count": 1,
   "metadata": {},
   "outputs": [
    {
     "name": "stdout",
     "output_type": "stream",
     "text": [
      "Collecting https://github.com/abchapman93/DELPHI_Intro_to_NLP_Spring_2024/releases/download/v0.1/delphi_nlp_2024-0.1.tar.gz\n",
      "  Downloading https://github.com/abchapman93/DELPHI_Intro_to_NLP_Spring_2024/releases/download/v0.1/delphi_nlp_2024-0.1.tar.gz (14 kB)\n",
      "  Preparing metadata (setup.py) ... \u001b[?25ldone\n",
      "\u001b[?25hCollecting jupyter (from delphi-nlp-2024==0.1)\n",
      "  Using cached jupyter-1.0.0-py2.py3-none-any.whl.metadata (995 bytes)\n",
      "Collecting notebook (from jupyter->delphi-nlp-2024==0.1)\n",
      "  Using cached notebook-7.1.1-py3-none-any.whl.metadata (10 kB)\n",
      "Collecting qtconsole (from jupyter->delphi-nlp-2024==0.1)\n",
      "  Using cached qtconsole-5.5.1-py3-none-any.whl.metadata (5.1 kB)\n",
      "Collecting jupyter-console (from jupyter->delphi-nlp-2024==0.1)\n",
      "  Using cached jupyter_console-6.6.3-py3-none-any.whl.metadata (5.8 kB)\n",
      "Requirement already satisfied: nbconvert in /Users/blocke/anaconda3/envs/py310treereg/lib/python3.10/site-packages (from jupyter->delphi-nlp-2024==0.1) (7.10.0)\n",
      "Requirement already satisfied: ipykernel in /Users/blocke/anaconda3/envs/py310treereg/lib/python3.10/site-packages (from jupyter->delphi-nlp-2024==0.1) (6.28.0)\n",
      "Collecting ipywidgets (from jupyter->delphi-nlp-2024==0.1)\n",
      "  Using cached ipywidgets-8.1.2-py3-none-any.whl.metadata (2.4 kB)\n",
      "Requirement already satisfied: appnope in /Users/blocke/anaconda3/envs/py310treereg/lib/python3.10/site-packages (from ipykernel->jupyter->delphi-nlp-2024==0.1) (0.1.2)\n",
      "Requirement already satisfied: comm>=0.1.1 in /Users/blocke/anaconda3/envs/py310treereg/lib/python3.10/site-packages (from ipykernel->jupyter->delphi-nlp-2024==0.1) (0.1.2)\n",
      "Requirement already satisfied: debugpy>=1.6.5 in /Users/blocke/anaconda3/envs/py310treereg/lib/python3.10/site-packages (from ipykernel->jupyter->delphi-nlp-2024==0.1) (1.6.7)\n",
      "Requirement already satisfied: ipython>=7.23.1 in /Users/blocke/anaconda3/envs/py310treereg/lib/python3.10/site-packages (from ipykernel->jupyter->delphi-nlp-2024==0.1) (8.20.0)\n",
      "Requirement already satisfied: jupyter-client>=6.1.12 in /Users/blocke/anaconda3/envs/py310treereg/lib/python3.10/site-packages (from ipykernel->jupyter->delphi-nlp-2024==0.1) (8.6.0)\n",
      "Requirement already satisfied: jupyter-core!=5.0.*,>=4.12 in /Users/blocke/anaconda3/envs/py310treereg/lib/python3.10/site-packages (from ipykernel->jupyter->delphi-nlp-2024==0.1) (5.5.0)\n",
      "Requirement already satisfied: matplotlib-inline>=0.1 in /Users/blocke/anaconda3/envs/py310treereg/lib/python3.10/site-packages (from ipykernel->jupyter->delphi-nlp-2024==0.1) (0.1.6)\n",
      "Requirement already satisfied: nest-asyncio in /Users/blocke/anaconda3/envs/py310treereg/lib/python3.10/site-packages (from ipykernel->jupyter->delphi-nlp-2024==0.1) (1.5.6)\n",
      "Requirement already satisfied: packaging in /Users/blocke/anaconda3/envs/py310treereg/lib/python3.10/site-packages (from ipykernel->jupyter->delphi-nlp-2024==0.1) (23.1)\n",
      "Requirement already satisfied: psutil in /Users/blocke/anaconda3/envs/py310treereg/lib/python3.10/site-packages (from ipykernel->jupyter->delphi-nlp-2024==0.1) (5.9.0)\n",
      "Requirement already satisfied: pyzmq>=24 in /Users/blocke/anaconda3/envs/py310treereg/lib/python3.10/site-packages (from ipykernel->jupyter->delphi-nlp-2024==0.1) (25.1.2)\n",
      "Requirement already satisfied: tornado>=6.1 in /Users/blocke/anaconda3/envs/py310treereg/lib/python3.10/site-packages (from ipykernel->jupyter->delphi-nlp-2024==0.1) (6.3.3)\n",
      "Requirement already satisfied: traitlets>=5.4.0 in /Users/blocke/anaconda3/envs/py310treereg/lib/python3.10/site-packages (from ipykernel->jupyter->delphi-nlp-2024==0.1) (5.7.1)\n",
      "Collecting comm>=0.1.1 (from ipykernel->jupyter->delphi-nlp-2024==0.1)\n",
      "  Using cached comm-0.2.1-py3-none-any.whl.metadata (3.7 kB)\n",
      "Collecting widgetsnbextension~=4.0.10 (from ipywidgets->jupyter->delphi-nlp-2024==0.1)\n",
      "  Using cached widgetsnbextension-4.0.10-py3-none-any.whl.metadata (1.6 kB)\n",
      "Collecting jupyterlab-widgets~=3.0.10 (from ipywidgets->jupyter->delphi-nlp-2024==0.1)\n",
      "  Using cached jupyterlab_widgets-3.0.10-py3-none-any.whl.metadata (4.1 kB)\n",
      "Requirement already satisfied: prompt-toolkit>=3.0.30 in /Users/blocke/anaconda3/envs/py310treereg/lib/python3.10/site-packages (from jupyter-console->jupyter->delphi-nlp-2024==0.1) (3.0.43)\n",
      "Requirement already satisfied: pygments in /Users/blocke/anaconda3/envs/py310treereg/lib/python3.10/site-packages (from jupyter-console->jupyter->delphi-nlp-2024==0.1) (2.15.1)\n",
      "Requirement already satisfied: beautifulsoup4 in /Users/blocke/anaconda3/envs/py310treereg/lib/python3.10/site-packages (from nbconvert->jupyter->delphi-nlp-2024==0.1) (4.12.2)\n",
      "Requirement already satisfied: bleach!=5.0.0 in /Users/blocke/anaconda3/envs/py310treereg/lib/python3.10/site-packages (from nbconvert->jupyter->delphi-nlp-2024==0.1) (4.1.0)\n",
      "Requirement already satisfied: defusedxml in /Users/blocke/anaconda3/envs/py310treereg/lib/python3.10/site-packages (from nbconvert->jupyter->delphi-nlp-2024==0.1) (0.7.1)\n",
      "Requirement already satisfied: jinja2>=3.0 in /Users/blocke/anaconda3/envs/py310treereg/lib/python3.10/site-packages (from nbconvert->jupyter->delphi-nlp-2024==0.1) (3.1.2)\n",
      "Requirement already satisfied: jupyterlab-pygments in /Users/blocke/anaconda3/envs/py310treereg/lib/python3.10/site-packages (from nbconvert->jupyter->delphi-nlp-2024==0.1) (0.1.2)\n",
      "Requirement already satisfied: markupsafe>=2.0 in /Users/blocke/anaconda3/envs/py310treereg/lib/python3.10/site-packages (from nbconvert->jupyter->delphi-nlp-2024==0.1) (2.1.3)\n",
      "Requirement already satisfied: mistune<4,>=2.0.3 in /Users/blocke/anaconda3/envs/py310treereg/lib/python3.10/site-packages (from nbconvert->jupyter->delphi-nlp-2024==0.1) (2.0.4)\n",
      "Requirement already satisfied: nbclient>=0.5.0 in /Users/blocke/anaconda3/envs/py310treereg/lib/python3.10/site-packages (from nbconvert->jupyter->delphi-nlp-2024==0.1) (0.8.0)\n",
      "Requirement already satisfied: nbformat>=5.7 in /Users/blocke/anaconda3/envs/py310treereg/lib/python3.10/site-packages (from nbconvert->jupyter->delphi-nlp-2024==0.1) (5.9.2)\n",
      "Requirement already satisfied: pandocfilters>=1.4.1 in /Users/blocke/anaconda3/envs/py310treereg/lib/python3.10/site-packages (from nbconvert->jupyter->delphi-nlp-2024==0.1) (1.5.0)\n",
      "Requirement already satisfied: tinycss2 in /Users/blocke/anaconda3/envs/py310treereg/lib/python3.10/site-packages (from nbconvert->jupyter->delphi-nlp-2024==0.1) (1.2.1)\n",
      "Requirement already satisfied: jupyter-server<3,>=2.4.0 in /Users/blocke/anaconda3/envs/py310treereg/lib/python3.10/site-packages (from notebook->jupyter->delphi-nlp-2024==0.1) (2.10.0)\n",
      "Requirement already satisfied: jupyterlab-server<3,>=2.22.1 in /Users/blocke/anaconda3/envs/py310treereg/lib/python3.10/site-packages (from notebook->jupyter->delphi-nlp-2024==0.1) (2.25.1)\n",
      "Collecting jupyterlab<4.2,>=4.1.1 (from notebook->jupyter->delphi-nlp-2024==0.1)\n",
      "  Using cached jupyterlab-4.1.4-py3-none-any.whl.metadata (15 kB)\n",
      "Requirement already satisfied: notebook-shim<0.3,>=0.2 in /Users/blocke/anaconda3/envs/py310treereg/lib/python3.10/site-packages (from notebook->jupyter->delphi-nlp-2024==0.1) (0.2.3)\n",
      "Collecting qtpy>=2.4.0 (from qtconsole->jupyter->delphi-nlp-2024==0.1)\n",
      "  Using cached QtPy-2.4.1-py3-none-any.whl.metadata (12 kB)\n",
      "Requirement already satisfied: six>=1.9.0 in /Users/blocke/anaconda3/envs/py310treereg/lib/python3.10/site-packages (from bleach!=5.0.0->nbconvert->jupyter->delphi-nlp-2024==0.1) (1.16.0)\n",
      "Requirement already satisfied: webencodings in /Users/blocke/anaconda3/envs/py310treereg/lib/python3.10/site-packages (from bleach!=5.0.0->nbconvert->jupyter->delphi-nlp-2024==0.1) (0.5.1)\n",
      "Requirement already satisfied: decorator in /Users/blocke/anaconda3/envs/py310treereg/lib/python3.10/site-packages (from ipython>=7.23.1->ipykernel->jupyter->delphi-nlp-2024==0.1) (5.1.1)\n",
      "Requirement already satisfied: jedi>=0.16 in /Users/blocke/anaconda3/envs/py310treereg/lib/python3.10/site-packages (from ipython>=7.23.1->ipykernel->jupyter->delphi-nlp-2024==0.1) (0.18.1)\n",
      "Requirement already satisfied: stack-data in /Users/blocke/anaconda3/envs/py310treereg/lib/python3.10/site-packages (from ipython>=7.23.1->ipykernel->jupyter->delphi-nlp-2024==0.1) (0.2.0)\n",
      "Requirement already satisfied: exceptiongroup in /Users/blocke/anaconda3/envs/py310treereg/lib/python3.10/site-packages (from ipython>=7.23.1->ipykernel->jupyter->delphi-nlp-2024==0.1) (1.0.4)\n",
      "Requirement already satisfied: pexpect>4.3 in /Users/blocke/anaconda3/envs/py310treereg/lib/python3.10/site-packages (from ipython>=7.23.1->ipykernel->jupyter->delphi-nlp-2024==0.1) (4.8.0)\n",
      "Requirement already satisfied: python-dateutil>=2.8.2 in /Users/blocke/anaconda3/envs/py310treereg/lib/python3.10/site-packages (from jupyter-client>=6.1.12->ipykernel->jupyter->delphi-nlp-2024==0.1) (2.8.2)\n",
      "Requirement already satisfied: platformdirs>=2.5 in /Users/blocke/anaconda3/envs/py310treereg/lib/python3.10/site-packages (from jupyter-core!=5.0.*,>=4.12->ipykernel->jupyter->delphi-nlp-2024==0.1) (3.10.0)\n",
      "Requirement already satisfied: anyio>=3.1.0 in /Users/blocke/anaconda3/envs/py310treereg/lib/python3.10/site-packages (from jupyter-server<3,>=2.4.0->notebook->jupyter->delphi-nlp-2024==0.1) (3.5.0)\n",
      "Requirement already satisfied: argon2-cffi in /Users/blocke/anaconda3/envs/py310treereg/lib/python3.10/site-packages (from jupyter-server<3,>=2.4.0->notebook->jupyter->delphi-nlp-2024==0.1) (21.3.0)\n",
      "Requirement already satisfied: jupyter-events>=0.6.0 in /Users/blocke/anaconda3/envs/py310treereg/lib/python3.10/site-packages (from jupyter-server<3,>=2.4.0->notebook->jupyter->delphi-nlp-2024==0.1) (0.8.0)\n",
      "Requirement already satisfied: jupyter-server-terminals in /Users/blocke/anaconda3/envs/py310treereg/lib/python3.10/site-packages (from jupyter-server<3,>=2.4.0->notebook->jupyter->delphi-nlp-2024==0.1) (0.4.4)\n",
      "Requirement already satisfied: overrides in /Users/blocke/anaconda3/envs/py310treereg/lib/python3.10/site-packages (from jupyter-server<3,>=2.4.0->notebook->jupyter->delphi-nlp-2024==0.1) (7.4.0)\n",
      "Requirement already satisfied: prometheus-client in /Users/blocke/anaconda3/envs/py310treereg/lib/python3.10/site-packages (from jupyter-server<3,>=2.4.0->notebook->jupyter->delphi-nlp-2024==0.1) (0.14.1)\n",
      "Requirement already satisfied: send2trash>=1.8.2 in /Users/blocke/anaconda3/envs/py310treereg/lib/python3.10/site-packages (from jupyter-server<3,>=2.4.0->notebook->jupyter->delphi-nlp-2024==0.1) (1.8.2)\n",
      "Requirement already satisfied: terminado>=0.8.3 in /Users/blocke/anaconda3/envs/py310treereg/lib/python3.10/site-packages (from jupyter-server<3,>=2.4.0->notebook->jupyter->delphi-nlp-2024==0.1) (0.17.1)\n",
      "Requirement already satisfied: websocket-client in /Users/blocke/anaconda3/envs/py310treereg/lib/python3.10/site-packages (from jupyter-server<3,>=2.4.0->notebook->jupyter->delphi-nlp-2024==0.1) (0.58.0)\n",
      "Requirement already satisfied: async-lru>=1.0.0 in /Users/blocke/anaconda3/envs/py310treereg/lib/python3.10/site-packages (from jupyterlab<4.2,>=4.1.1->notebook->jupyter->delphi-nlp-2024==0.1) (2.0.4)\n",
      "Collecting httpx>=0.25.0 (from jupyterlab<4.2,>=4.1.1->notebook->jupyter->delphi-nlp-2024==0.1)\n",
      "  Using cached httpx-0.27.0-py3-none-any.whl.metadata (7.2 kB)\n",
      "Requirement already satisfied: jupyter-lsp>=2.0.0 in /Users/blocke/anaconda3/envs/py310treereg/lib/python3.10/site-packages (from jupyterlab<4.2,>=4.1.1->notebook->jupyter->delphi-nlp-2024==0.1) (2.2.0)\n",
      "Requirement already satisfied: tomli in /Users/blocke/anaconda3/envs/py310treereg/lib/python3.10/site-packages (from jupyterlab<4.2,>=4.1.1->notebook->jupyter->delphi-nlp-2024==0.1) (2.0.1)\n",
      "Requirement already satisfied: babel>=2.10 in /Users/blocke/anaconda3/envs/py310treereg/lib/python3.10/site-packages (from jupyterlab-server<3,>=2.22.1->notebook->jupyter->delphi-nlp-2024==0.1) (2.11.0)\n",
      "Requirement already satisfied: json5>=0.9.0 in /Users/blocke/anaconda3/envs/py310treereg/lib/python3.10/site-packages (from jupyterlab-server<3,>=2.22.1->notebook->jupyter->delphi-nlp-2024==0.1) (0.9.6)\n",
      "Requirement already satisfied: jsonschema>=4.18.0 in /Users/blocke/anaconda3/envs/py310treereg/lib/python3.10/site-packages (from jupyterlab-server<3,>=2.22.1->notebook->jupyter->delphi-nlp-2024==0.1) (4.19.2)\n",
      "Requirement already satisfied: requests>=2.31 in /Users/blocke/anaconda3/envs/py310treereg/lib/python3.10/site-packages (from jupyterlab-server<3,>=2.22.1->notebook->jupyter->delphi-nlp-2024==0.1) (2.31.0)\n",
      "Requirement already satisfied: fastjsonschema in /Users/blocke/anaconda3/envs/py310treereg/lib/python3.10/site-packages (from nbformat>=5.7->nbconvert->jupyter->delphi-nlp-2024==0.1) (2.16.2)\n",
      "Requirement already satisfied: wcwidth in /Users/blocke/anaconda3/envs/py310treereg/lib/python3.10/site-packages (from prompt-toolkit>=3.0.30->jupyter-console->jupyter->delphi-nlp-2024==0.1) (0.2.5)\n",
      "Requirement already satisfied: soupsieve>1.2 in /Users/blocke/anaconda3/envs/py310treereg/lib/python3.10/site-packages (from beautifulsoup4->nbconvert->jupyter->delphi-nlp-2024==0.1) (2.5)\n",
      "Requirement already satisfied: idna>=2.8 in /Users/blocke/anaconda3/envs/py310treereg/lib/python3.10/site-packages (from anyio>=3.1.0->jupyter-server<3,>=2.4.0->notebook->jupyter->delphi-nlp-2024==0.1) (3.4)\n",
      "Requirement already satisfied: sniffio>=1.1 in /Users/blocke/anaconda3/envs/py310treereg/lib/python3.10/site-packages (from anyio>=3.1.0->jupyter-server<3,>=2.4.0->notebook->jupyter->delphi-nlp-2024==0.1) (1.3.0)\n",
      "Requirement already satisfied: typing-extensions>=4.0.0 in /Users/blocke/anaconda3/envs/py310treereg/lib/python3.10/site-packages (from async-lru>=1.0.0->jupyterlab<4.2,>=4.1.1->notebook->jupyter->delphi-nlp-2024==0.1) (4.9.0)\n",
      "Requirement already satisfied: pytz>=2015.7 in /Users/blocke/anaconda3/envs/py310treereg/lib/python3.10/site-packages (from babel>=2.10->jupyterlab-server<3,>=2.22.1->notebook->jupyter->delphi-nlp-2024==0.1) (2023.3.post1)\n",
      "Requirement already satisfied: certifi in /Users/blocke/anaconda3/envs/py310treereg/lib/python3.10/site-packages (from httpx>=0.25.0->jupyterlab<4.2,>=4.1.1->notebook->jupyter->delphi-nlp-2024==0.1) (2023.11.17)\n",
      "Collecting httpcore==1.* (from httpx>=0.25.0->jupyterlab<4.2,>=4.1.1->notebook->jupyter->delphi-nlp-2024==0.1)\n",
      "  Using cached httpcore-1.0.4-py3-none-any.whl.metadata (20 kB)\n",
      "Collecting h11<0.15,>=0.13 (from httpcore==1.*->httpx>=0.25.0->jupyterlab<4.2,>=4.1.1->notebook->jupyter->delphi-nlp-2024==0.1)\n",
      "  Using cached h11-0.14.0-py3-none-any.whl.metadata (8.2 kB)\n",
      "Requirement already satisfied: parso<0.9.0,>=0.8.0 in /Users/blocke/anaconda3/envs/py310treereg/lib/python3.10/site-packages (from jedi>=0.16->ipython>=7.23.1->ipykernel->jupyter->delphi-nlp-2024==0.1) (0.8.3)\n",
      "Requirement already satisfied: attrs>=22.2.0 in /Users/blocke/anaconda3/envs/py310treereg/lib/python3.10/site-packages (from jsonschema>=4.18.0->jupyterlab-server<3,>=2.22.1->notebook->jupyter->delphi-nlp-2024==0.1) (23.1.0)\n",
      "Requirement already satisfied: jsonschema-specifications>=2023.03.6 in /Users/blocke/anaconda3/envs/py310treereg/lib/python3.10/site-packages (from jsonschema>=4.18.0->jupyterlab-server<3,>=2.22.1->notebook->jupyter->delphi-nlp-2024==0.1) (2023.7.1)\n",
      "Requirement already satisfied: referencing>=0.28.4 in /Users/blocke/anaconda3/envs/py310treereg/lib/python3.10/site-packages (from jsonschema>=4.18.0->jupyterlab-server<3,>=2.22.1->notebook->jupyter->delphi-nlp-2024==0.1) (0.30.2)\n",
      "Requirement already satisfied: rpds-py>=0.7.1 in /Users/blocke/anaconda3/envs/py310treereg/lib/python3.10/site-packages (from jsonschema>=4.18.0->jupyterlab-server<3,>=2.22.1->notebook->jupyter->delphi-nlp-2024==0.1) (0.10.6)\n",
      "Requirement already satisfied: python-json-logger>=2.0.4 in /Users/blocke/anaconda3/envs/py310treereg/lib/python3.10/site-packages (from jupyter-events>=0.6.0->jupyter-server<3,>=2.4.0->notebook->jupyter->delphi-nlp-2024==0.1) (2.0.7)\n",
      "Requirement already satisfied: pyyaml>=5.3 in /Users/blocke/anaconda3/envs/py310treereg/lib/python3.10/site-packages (from jupyter-events>=0.6.0->jupyter-server<3,>=2.4.0->notebook->jupyter->delphi-nlp-2024==0.1) (6.0.1)\n",
      "Requirement already satisfied: rfc3339-validator in /Users/blocke/anaconda3/envs/py310treereg/lib/python3.10/site-packages (from jupyter-events>=0.6.0->jupyter-server<3,>=2.4.0->notebook->jupyter->delphi-nlp-2024==0.1) (0.1.4)\n",
      "Requirement already satisfied: rfc3986-validator>=0.1.1 in /Users/blocke/anaconda3/envs/py310treereg/lib/python3.10/site-packages (from jupyter-events>=0.6.0->jupyter-server<3,>=2.4.0->notebook->jupyter->delphi-nlp-2024==0.1) (0.1.1)\n",
      "Requirement already satisfied: ptyprocess>=0.5 in /Users/blocke/anaconda3/envs/py310treereg/lib/python3.10/site-packages (from pexpect>4.3->ipython>=7.23.1->ipykernel->jupyter->delphi-nlp-2024==0.1) (0.7.0)\n",
      "Requirement already satisfied: charset-normalizer<4,>=2 in /Users/blocke/anaconda3/envs/py310treereg/lib/python3.10/site-packages (from requests>=2.31->jupyterlab-server<3,>=2.22.1->notebook->jupyter->delphi-nlp-2024==0.1) (2.0.4)\n",
      "Requirement already satisfied: urllib3<3,>=1.21.1 in /Users/blocke/anaconda3/envs/py310treereg/lib/python3.10/site-packages (from requests>=2.31->jupyterlab-server<3,>=2.22.1->notebook->jupyter->delphi-nlp-2024==0.1) (1.26.18)\n",
      "Requirement already satisfied: argon2-cffi-bindings in /Users/blocke/anaconda3/envs/py310treereg/lib/python3.10/site-packages (from argon2-cffi->jupyter-server<3,>=2.4.0->notebook->jupyter->delphi-nlp-2024==0.1) (21.2.0)\n",
      "Requirement already satisfied: executing in /Users/blocke/anaconda3/envs/py310treereg/lib/python3.10/site-packages (from stack-data->ipython>=7.23.1->ipykernel->jupyter->delphi-nlp-2024==0.1) (0.8.3)\n",
      "Requirement already satisfied: asttokens in /Users/blocke/anaconda3/envs/py310treereg/lib/python3.10/site-packages (from stack-data->ipython>=7.23.1->ipykernel->jupyter->delphi-nlp-2024==0.1) (2.0.5)\n",
      "Requirement already satisfied: pure-eval in /Users/blocke/anaconda3/envs/py310treereg/lib/python3.10/site-packages (from stack-data->ipython>=7.23.1->ipykernel->jupyter->delphi-nlp-2024==0.1) (0.2.2)\n",
      "Collecting fqdn (from jsonschema[format-nongpl]>=4.18.0->jupyter-events>=0.6.0->jupyter-server<3,>=2.4.0->notebook->jupyter->delphi-nlp-2024==0.1)\n",
      "  Using cached fqdn-1.5.1-py3-none-any.whl.metadata (1.4 kB)\n",
      "Collecting isoduration (from jsonschema[format-nongpl]>=4.18.0->jupyter-events>=0.6.0->jupyter-server<3,>=2.4.0->notebook->jupyter->delphi-nlp-2024==0.1)\n",
      "  Using cached isoduration-20.11.0-py3-none-any.whl.metadata (5.7 kB)\n",
      "Collecting jsonpointer>1.13 (from jsonschema[format-nongpl]>=4.18.0->jupyter-events>=0.6.0->jupyter-server<3,>=2.4.0->notebook->jupyter->delphi-nlp-2024==0.1)\n",
      "  Using cached jsonpointer-2.4-py2.py3-none-any.whl.metadata (2.5 kB)\n",
      "Collecting uri-template (from jsonschema[format-nongpl]>=4.18.0->jupyter-events>=0.6.0->jupyter-server<3,>=2.4.0->notebook->jupyter->delphi-nlp-2024==0.1)\n",
      "  Using cached uri_template-1.3.0-py3-none-any.whl.metadata (8.8 kB)\n",
      "Collecting webcolors>=1.11 (from jsonschema[format-nongpl]>=4.18.0->jupyter-events>=0.6.0->jupyter-server<3,>=2.4.0->notebook->jupyter->delphi-nlp-2024==0.1)\n",
      "  Using cached webcolors-1.13-py3-none-any.whl.metadata (2.6 kB)\n",
      "Requirement already satisfied: cffi>=1.0.1 in /Users/blocke/anaconda3/envs/py310treereg/lib/python3.10/site-packages (from argon2-cffi-bindings->argon2-cffi->jupyter-server<3,>=2.4.0->notebook->jupyter->delphi-nlp-2024==0.1) (1.16.0)\n",
      "Requirement already satisfied: pycparser in /Users/blocke/anaconda3/envs/py310treereg/lib/python3.10/site-packages (from cffi>=1.0.1->argon2-cffi-bindings->argon2-cffi->jupyter-server<3,>=2.4.0->notebook->jupyter->delphi-nlp-2024==0.1) (2.21)\n",
      "Collecting arrow>=0.15.0 (from isoduration->jsonschema[format-nongpl]>=4.18.0->jupyter-events>=0.6.0->jupyter-server<3,>=2.4.0->notebook->jupyter->delphi-nlp-2024==0.1)\n",
      "  Using cached arrow-1.3.0-py3-none-any.whl.metadata (7.5 kB)\n",
      "Collecting types-python-dateutil>=2.8.10 (from arrow>=0.15.0->isoduration->jsonschema[format-nongpl]>=4.18.0->jupyter-events>=0.6.0->jupyter-server<3,>=2.4.0->notebook->jupyter->delphi-nlp-2024==0.1)\n",
      "  Using cached types_python_dateutil-2.8.19.20240106-py3-none-any.whl.metadata (1.8 kB)\n",
      "Using cached jupyter-1.0.0-py2.py3-none-any.whl (2.7 kB)\n",
      "Using cached ipywidgets-8.1.2-py3-none-any.whl (139 kB)\n",
      "Using cached jupyter_console-6.6.3-py3-none-any.whl (24 kB)\n",
      "Using cached notebook-7.1.1-py3-none-any.whl (5.0 MB)\n",
      "Using cached qtconsole-5.5.1-py3-none-any.whl (123 kB)\n",
      "Using cached comm-0.2.1-py3-none-any.whl (7.2 kB)\n",
      "Using cached jupyterlab-4.1.4-py3-none-any.whl (11.4 MB)\n",
      "Using cached jupyterlab_widgets-3.0.10-py3-none-any.whl (215 kB)\n",
      "Using cached QtPy-2.4.1-py3-none-any.whl (93 kB)\n",
      "Using cached widgetsnbextension-4.0.10-py3-none-any.whl (2.3 MB)\n",
      "Using cached httpx-0.27.0-py3-none-any.whl (75 kB)\n",
      "Using cached httpcore-1.0.4-py3-none-any.whl (77 kB)\n",
      "Using cached h11-0.14.0-py3-none-any.whl (58 kB)\n",
      "Using cached jsonpointer-2.4-py2.py3-none-any.whl (7.8 kB)\n",
      "Using cached webcolors-1.13-py3-none-any.whl (14 kB)\n",
      "Using cached fqdn-1.5.1-py3-none-any.whl (9.1 kB)\n",
      "Using cached isoduration-20.11.0-py3-none-any.whl (11 kB)\n",
      "Using cached uri_template-1.3.0-py3-none-any.whl (11 kB)\n",
      "Using cached arrow-1.3.0-py3-none-any.whl (66 kB)\n",
      "Using cached types_python_dateutil-2.8.19.20240106-py3-none-any.whl (9.7 kB)\n",
      "Building wheels for collected packages: delphi-nlp-2024\n",
      "  Building wheel for delphi-nlp-2024 (setup.py) ... \u001b[?25ldone\n",
      "\u001b[?25h  Created wheel for delphi-nlp-2024: filename=delphi_nlp_2024-0.1-py3-none-any.whl size=17319 sha256=ee97c030561e202f718037a531fdc27fa4cefd147d85c0f657f6a59de7d857aa\n",
      "  Stored in directory: /Users/blocke/Library/Caches/pip/wheels/c7/5d/66/a4b1e5375e57a70dd6654714b615e81f40def6d425c5d7507a\n",
      "Successfully built delphi-nlp-2024\n",
      "Installing collected packages: widgetsnbextension, webcolors, uri-template, types-python-dateutil, qtpy, jupyterlab-widgets, jsonpointer, h11, fqdn, comm, httpcore, arrow, isoduration, httpx, ipywidgets, qtconsole, jupyter-console, jupyterlab, notebook, jupyter, delphi-nlp-2024\n",
      "  Attempting uninstall: comm\n",
      "    Found existing installation: comm 0.1.2\n",
      "    Uninstalling comm-0.1.2:\n",
      "      Successfully uninstalled comm-0.1.2\n",
      "  Attempting uninstall: jupyterlab\n",
      "    Found existing installation: jupyterlab 4.0.8\n",
      "    Uninstalling jupyterlab-4.0.8:\n",
      "      Successfully uninstalled jupyterlab-4.0.8\n",
      "Successfully installed arrow-1.3.0 comm-0.2.1 delphi-nlp-2024-0.1 fqdn-1.5.1 h11-0.14.0 httpcore-1.0.4 httpx-0.27.0 ipywidgets-8.1.2 isoduration-20.11.0 jsonpointer-2.4 jupyter-1.0.0 jupyter-console-6.6.3 jupyterlab-4.1.4 jupyterlab-widgets-3.0.10 notebook-7.1.1 qtconsole-5.5.1 qtpy-2.4.1 types-python-dateutil-2.8.19.20240106 uri-template-1.3.0 webcolors-1.13 widgetsnbextension-4.0.10\n"
     ]
    }
   ],
   "source": [
    "!pip install https://github.com/abchapman93/DELPHI_Intro_to_NLP_Spring_2024/releases/download/v0.1/delphi_nlp_2024-0.1.tar.gz"
   ]
  },
  {
   "cell_type": "code",
   "execution_count": 2,
   "metadata": {},
   "outputs": [
    {
     "name": "stdout",
     "output_type": "stream",
     "text": [
      "Collecting medspacy\n",
      "  Using cached medspacy-1.1.5-py3-none-any.whl\n",
      "Collecting spacy<3.6,>=3.4.1 (from medspacy)\n",
      "  Using cached spacy-3.5.4-cp310-cp310-macosx_11_0_arm64.whl.metadata (25 kB)\n",
      "Collecting PyRuSH>=1.0.8 (from medspacy)\n",
      "  Using cached PyRuSH-1.0.8-cp310-cp310-macosx_11_0_arm64.whl.metadata (3.9 kB)\n",
      "Collecting pysbd==0.3.4 (from medspacy)\n",
      "  Using cached pysbd-0.3.4-py3-none-any.whl.metadata (6.1 kB)\n",
      "Requirement already satisfied: jsonschema in /Users/blocke/anaconda3/envs/py310treereg/lib/python3.10/site-packages (from medspacy) (4.19.2)\n",
      "Collecting medspacy-quickumls==3.0 (from medspacy)\n",
      "  Using cached medspacy_quickumls-3.0-py3-none-any.whl.metadata (9.7 kB)\n",
      "Requirement already satisfied: numpy>=1.8.2 in /Users/blocke/anaconda3/envs/py310treereg/lib/python3.10/site-packages (from medspacy-quickumls==3.0->medspacy) (1.26.3)\n",
      "Collecting unidecode>=0.4.19 (from medspacy-quickumls==3.0->medspacy)\n",
      "  Using cached Unidecode-1.3.8-py3-none-any.whl.metadata (13 kB)\n",
      "Collecting nltk>=3.3 (from medspacy-quickumls==3.0->medspacy)\n",
      "  Using cached nltk-3.8.1-py3-none-any.whl.metadata (2.8 kB)\n",
      "Collecting pysimstring (from medspacy-quickumls==3.0->medspacy)\n",
      "  Using cached pysimstring-1.2.1.tar.gz (68 kB)\n",
      "  Preparing metadata (setup.py) ... \u001b[?25ldone\n",
      "\u001b[?25hCollecting unqlite>=0.8.1 (from medspacy-quickumls==3.0->medspacy)\n",
      "  Using cached unqlite-0.9.6.tar.gz (580 kB)\n",
      "  Preparing metadata (setup.py) ... \u001b[?25ldone\n",
      "\u001b[?25hCollecting pytest>=6 (from medspacy-quickumls==3.0->medspacy)\n",
      "  Using cached pytest-8.0.2-py3-none-any.whl.metadata (7.7 kB)\n",
      "Requirement already satisfied: six in /Users/blocke/anaconda3/envs/py310treereg/lib/python3.10/site-packages (from medspacy-quickumls==3.0->medspacy) (1.16.0)\n",
      "Collecting Cython<3.0,>=0.25 (from PyRuSH>=1.0.8->medspacy)\n",
      "  Using cached Cython-0.29.37-py2.py3-none-any.whl.metadata (3.1 kB)\n",
      "Requirement already satisfied: setuptools in /Users/blocke/anaconda3/envs/py310treereg/lib/python3.10/site-packages (from PyRuSH>=1.0.8->medspacy) (68.2.2)\n",
      "Collecting PyFastNER>=1.0.8 (from PyRuSH>=1.0.8->medspacy)\n",
      "  Using cached PyFastNER-1.0.10-py3-none-any.whl.metadata (15 kB)\n",
      "Collecting quicksectx>=0.3.5 (from PyRuSH>=1.0.8->medspacy)\n",
      "  Using cached quicksectx-0.3.9.tar.gz (234 kB)\n",
      "  Installing build dependencies ... \u001b[?25ldone\n",
      "\u001b[?25h  Getting requirements to build wheel ... \u001b[?25ldone\n",
      "\u001b[?25h  Preparing metadata (pyproject.toml) ... \u001b[?25ldone\n",
      "\u001b[?25hRequirement already satisfied: spacy-legacy<3.1.0,>=3.0.11 in /Users/blocke/anaconda3/envs/py310treereg/lib/python3.10/site-packages (from spacy<3.6,>=3.4.1->medspacy) (3.0.12)\n",
      "Requirement already satisfied: spacy-loggers<2.0.0,>=1.0.0 in /Users/blocke/anaconda3/envs/py310treereg/lib/python3.10/site-packages (from spacy<3.6,>=3.4.1->medspacy) (1.0.5)\n",
      "Requirement already satisfied: murmurhash<1.1.0,>=0.28.0 in /Users/blocke/anaconda3/envs/py310treereg/lib/python3.10/site-packages (from spacy<3.6,>=3.4.1->medspacy) (1.0.7)\n",
      "Requirement already satisfied: cymem<2.1.0,>=2.0.2 in /Users/blocke/anaconda3/envs/py310treereg/lib/python3.10/site-packages (from spacy<3.6,>=3.4.1->medspacy) (2.0.6)\n",
      "Requirement already satisfied: preshed<3.1.0,>=3.0.2 in /Users/blocke/anaconda3/envs/py310treereg/lib/python3.10/site-packages (from spacy<3.6,>=3.4.1->medspacy) (3.0.6)\n",
      "Collecting thinc<8.2.0,>=8.1.8 (from spacy<3.6,>=3.4.1->medspacy)\n",
      "  Using cached thinc-8.1.12-cp310-cp310-macosx_11_0_arm64.whl.metadata (15 kB)\n",
      "Requirement already satisfied: wasabi<1.2.0,>=0.9.1 in /Users/blocke/anaconda3/envs/py310treereg/lib/python3.10/site-packages (from spacy<3.6,>=3.4.1->medspacy) (1.1.2)\n",
      "Requirement already satisfied: srsly<3.0.0,>=2.4.3 in /Users/blocke/anaconda3/envs/py310treereg/lib/python3.10/site-packages (from spacy<3.6,>=3.4.1->medspacy) (2.4.8)\n",
      "Requirement already satisfied: catalogue<2.1.0,>=2.0.6 in /Users/blocke/anaconda3/envs/py310treereg/lib/python3.10/site-packages (from spacy<3.6,>=3.4.1->medspacy) (2.0.10)\n",
      "Requirement already satisfied: typer<0.10.0,>=0.3.0 in /Users/blocke/anaconda3/envs/py310treereg/lib/python3.10/site-packages (from spacy<3.6,>=3.4.1->medspacy) (0.9.0)\n",
      "Collecting pathy>=0.10.0 (from spacy<3.6,>=3.4.1->medspacy)\n",
      "  Using cached pathy-0.11.0-py3-none-any.whl.metadata (16 kB)\n",
      "Requirement already satisfied: smart-open<7.0.0,>=5.2.1 in /Users/blocke/anaconda3/envs/py310treereg/lib/python3.10/site-packages (from spacy<3.6,>=3.4.1->medspacy) (6.4.0)\n",
      "Requirement already satisfied: tqdm<5.0.0,>=4.38.0 in /Users/blocke/anaconda3/envs/py310treereg/lib/python3.10/site-packages (from spacy<3.6,>=3.4.1->medspacy) (4.65.0)\n",
      "Requirement already satisfied: requests<3.0.0,>=2.13.0 in /Users/blocke/anaconda3/envs/py310treereg/lib/python3.10/site-packages (from spacy<3.6,>=3.4.1->medspacy) (2.31.0)\n",
      "Collecting pydantic!=1.8,!=1.8.1,<1.11.0,>=1.7.4 (from spacy<3.6,>=3.4.1->medspacy)\n",
      "  Using cached pydantic-1.10.14-cp310-cp310-macosx_11_0_arm64.whl.metadata (150 kB)\n",
      "Requirement already satisfied: jinja2 in /Users/blocke/anaconda3/envs/py310treereg/lib/python3.10/site-packages (from spacy<3.6,>=3.4.1->medspacy) (3.1.2)\n",
      "Requirement already satisfied: packaging>=20.0 in /Users/blocke/anaconda3/envs/py310treereg/lib/python3.10/site-packages (from spacy<3.6,>=3.4.1->medspacy) (23.1)\n",
      "Requirement already satisfied: langcodes<4.0.0,>=3.2.0 in /Users/blocke/anaconda3/envs/py310treereg/lib/python3.10/site-packages (from spacy<3.6,>=3.4.1->medspacy) (3.3.0)\n",
      "Requirement already satisfied: attrs>=22.2.0 in /Users/blocke/anaconda3/envs/py310treereg/lib/python3.10/site-packages (from jsonschema->medspacy) (23.1.0)\n",
      "Requirement already satisfied: jsonschema-specifications>=2023.03.6 in /Users/blocke/anaconda3/envs/py310treereg/lib/python3.10/site-packages (from jsonschema->medspacy) (2023.7.1)\n",
      "Requirement already satisfied: referencing>=0.28.4 in /Users/blocke/anaconda3/envs/py310treereg/lib/python3.10/site-packages (from jsonschema->medspacy) (0.30.2)\n",
      "Requirement already satisfied: rpds-py>=0.7.1 in /Users/blocke/anaconda3/envs/py310treereg/lib/python3.10/site-packages (from jsonschema->medspacy) (0.10.6)\n",
      "Requirement already satisfied: click in /Users/blocke/anaconda3/envs/py310treereg/lib/python3.10/site-packages (from nltk>=3.3->medspacy-quickumls==3.0->medspacy) (8.1.7)\n",
      "Requirement already satisfied: joblib in /Users/blocke/anaconda3/envs/py310treereg/lib/python3.10/site-packages (from nltk>=3.3->medspacy-quickumls==3.0->medspacy) (1.2.0)\n",
      "Collecting regex>=2021.8.3 (from nltk>=3.3->medspacy-quickumls==3.0->medspacy)\n",
      "  Using cached regex-2023.12.25-cp310-cp310-macosx_11_0_arm64.whl.metadata (40 kB)\n",
      "Collecting pathlib-abc==0.1.1 (from pathy>=0.10.0->spacy<3.6,>=3.4.1->medspacy)\n",
      "  Using cached pathlib_abc-0.1.1-py3-none-any.whl.metadata (18 kB)\n",
      "Requirement already satisfied: typing-extensions>=4.2.0 in /Users/blocke/anaconda3/envs/py310treereg/lib/python3.10/site-packages (from pydantic!=1.8,!=1.8.1,<1.11.0,>=1.7.4->spacy<3.6,>=3.4.1->medspacy) (4.9.0)\n",
      "Collecting iniconfig (from pytest>=6->medspacy-quickumls==3.0->medspacy)\n",
      "  Using cached iniconfig-2.0.0-py3-none-any.whl.metadata (2.6 kB)\n",
      "Collecting pluggy<2.0,>=1.3.0 (from pytest>=6->medspacy-quickumls==3.0->medspacy)\n",
      "  Using cached pluggy-1.4.0-py3-none-any.whl.metadata (4.3 kB)\n",
      "Requirement already satisfied: exceptiongroup>=1.0.0rc8 in /Users/blocke/anaconda3/envs/py310treereg/lib/python3.10/site-packages (from pytest>=6->medspacy-quickumls==3.0->medspacy) (1.0.4)\n",
      "Requirement already satisfied: tomli>=1.0.0 in /Users/blocke/anaconda3/envs/py310treereg/lib/python3.10/site-packages (from pytest>=6->medspacy-quickumls==3.0->medspacy) (2.0.1)\n",
      "Requirement already satisfied: charset-normalizer<4,>=2 in /Users/blocke/anaconda3/envs/py310treereg/lib/python3.10/site-packages (from requests<3.0.0,>=2.13.0->spacy<3.6,>=3.4.1->medspacy) (2.0.4)\n",
      "Requirement already satisfied: idna<4,>=2.5 in /Users/blocke/anaconda3/envs/py310treereg/lib/python3.10/site-packages (from requests<3.0.0,>=2.13.0->spacy<3.6,>=3.4.1->medspacy) (3.4)\n",
      "Requirement already satisfied: urllib3<3,>=1.21.1 in /Users/blocke/anaconda3/envs/py310treereg/lib/python3.10/site-packages (from requests<3.0.0,>=2.13.0->spacy<3.6,>=3.4.1->medspacy) (1.26.18)\n",
      "Requirement already satisfied: certifi>=2017.4.17 in /Users/blocke/anaconda3/envs/py310treereg/lib/python3.10/site-packages (from requests<3.0.0,>=2.13.0->spacy<3.6,>=3.4.1->medspacy) (2023.11.17)\n",
      "Requirement already satisfied: blis<0.8.0,>=0.7.8 in /Users/blocke/anaconda3/envs/py310treereg/lib/python3.10/site-packages (from thinc<8.2.0,>=8.1.8->spacy<3.6,>=3.4.1->medspacy) (0.7.10)\n",
      "Requirement already satisfied: confection<1.0.0,>=0.0.1 in /Users/blocke/anaconda3/envs/py310treereg/lib/python3.10/site-packages (from thinc<8.2.0,>=8.1.8->spacy<3.6,>=3.4.1->medspacy) (0.1.4)\n",
      "Requirement already satisfied: MarkupSafe>=2.0 in /Users/blocke/anaconda3/envs/py310treereg/lib/python3.10/site-packages (from jinja2->spacy<3.6,>=3.4.1->medspacy) (2.1.3)\n",
      "Using cached medspacy_quickumls-3.0-py3-none-any.whl (92 kB)\n",
      "Using cached pysbd-0.3.4-py3-none-any.whl (71 kB)\n",
      "Using cached PyRuSH-1.0.8-cp310-cp310-macosx_11_0_arm64.whl (62 kB)\n",
      "Using cached spacy-3.5.4-cp310-cp310-macosx_11_0_arm64.whl (6.6 MB)\n",
      "Using cached Cython-0.29.37-py2.py3-none-any.whl (989 kB)\n",
      "Using cached nltk-3.8.1-py3-none-any.whl (1.5 MB)\n",
      "Using cached pathy-0.11.0-py3-none-any.whl (47 kB)\n",
      "Using cached pathlib_abc-0.1.1-py3-none-any.whl (23 kB)\n",
      "Using cached pydantic-1.10.14-cp310-cp310-macosx_11_0_arm64.whl (2.6 MB)\n",
      "Using cached PyFastNER-1.0.10-py3-none-any.whl (22 kB)\n",
      "Using cached pytest-8.0.2-py3-none-any.whl (333 kB)\n",
      "Using cached thinc-8.1.12-cp310-cp310-macosx_11_0_arm64.whl (784 kB)\n",
      "Using cached Unidecode-1.3.8-py3-none-any.whl (235 kB)\n",
      "Using cached pluggy-1.4.0-py3-none-any.whl (20 kB)\n",
      "Using cached regex-2023.12.25-cp310-cp310-macosx_11_0_arm64.whl (291 kB)\n",
      "Using cached iniconfig-2.0.0-py3-none-any.whl (5.9 kB)\n",
      "Building wheels for collected packages: quicksectx, unqlite, pysimstring\n",
      "  Building wheel for quicksectx (pyproject.toml) ... \u001b[?25ldone\n",
      "\u001b[?25h  Created wheel for quicksectx: filename=quicksectx-0.3.9-cp310-cp310-macosx_11_0_arm64.whl size=358473 sha256=9065eec583587d571782e7baa246b3496ba7203a1917409900ba930b433702b1\n",
      "  Stored in directory: /Users/blocke/Library/Caches/pip/wheels/49/7a/90/d95b34142dc2fdf9f34c4716afa9becf581be3601b5bc99342\n",
      "  Building wheel for unqlite (setup.py) ... \u001b[?25ldone\n",
      "\u001b[?25h  Created wheel for unqlite: filename=unqlite-0.9.6-cp310-cp310-macosx_11_0_arm64.whl size=294994 sha256=ba8c4db9f02824e267eda1616777bab9c4f209d45aa15c2caa8812ed929b3e7c\n",
      "  Stored in directory: /Users/blocke/Library/Caches/pip/wheels/81/f4/a1/7e97f75c3102460c515a52f33cd7d5d61a93a57408fd0efad8\n",
      "  Building wheel for pysimstring (setup.py) ... \u001b[?25ldone\n",
      "\u001b[?25h  Created wheel for pysimstring: filename=pysimstring-1.2.1-cp310-cp310-macosx_11_0_arm64.whl size=97051 sha256=c4634fff89c566b0a9b23d67bc8fa71af53fa0c8ff6a08da51c9d724ad1df2f1\n",
      "  Stored in directory: /Users/blocke/Library/Caches/pip/wheels/9f/78/66/b109a56e335d0dd47db390d0546168df21d65b98dd1d9d6963\n",
      "Successfully built quicksectx unqlite pysimstring\n",
      "Installing collected packages: pysimstring, unidecode, regex, pysbd, pydantic, pluggy, pathlib-abc, iniconfig, Cython, unqlite, quicksectx, pytest, pathy, nltk, thinc, PyFastNER, spacy, PyRuSH, medspacy-quickumls, medspacy\n",
      "  Attempting uninstall: pydantic\n",
      "    Found existing installation: pydantic 2.0.3\n",
      "    Uninstalling pydantic-2.0.3:\n",
      "      Successfully uninstalled pydantic-2.0.3\n",
      "  Attempting uninstall: thinc\n",
      "    Found existing installation: thinc 8.2.2\n",
      "    Uninstalling thinc-8.2.2:\n",
      "      Successfully uninstalled thinc-8.2.2\n",
      "  Attempting uninstall: spacy\n",
      "    Found existing installation: spacy 3.7.2\n",
      "    Uninstalling spacy-3.7.2:\n",
      "      Successfully uninstalled spacy-3.7.2\n",
      "\u001b[31mERROR: pip's dependency resolver does not currently take into account all the packages that are installed. This behaviour is the source of the following dependency conflicts.\n",
      "de-core-news-sm 3.7.0 requires spacy<3.8.0,>=3.7.0, but you have spacy 3.5.4 which is incompatible.\n",
      "en-core-web-sm 3.7.1 requires spacy<3.8.0,>=3.7.2, but you have spacy 3.5.4 which is incompatible.\u001b[0m\u001b[31m\n",
      "\u001b[0mSuccessfully installed Cython-0.29.37 PyFastNER-1.0.10 PyRuSH-1.0.8 iniconfig-2.0.0 medspacy-1.1.5 medspacy-quickumls-3.0 nltk-3.8.1 pathlib-abc-0.1.1 pathy-0.11.0 pluggy-1.4.0 pydantic-1.10.14 pysbd-0.3.4 pysimstring-1.2.1 pytest-8.0.2 quicksectx-0.3.9 regex-2023.12.25 spacy-3.5.4 thinc-8.1.12 unidecode-1.3.8 unqlite-0.9.6\n"
     ]
    }
   ],
   "source": [
    "!pip install medspacy"
   ]
  },
  {
   "cell_type": "markdown",
   "metadata": {},
   "source": [
    "[ ] TODO: NEED TO INSTALL C IN A WAY THAT PYTHON CAN SEE TO MAKE THIS WORK LOCALLY"
   ]
  },
  {
   "cell_type": "code",
   "execution_count": 3,
   "metadata": {},
   "outputs": [],
   "source": [
    "from delphi_nlp_2024 import *\n",
    "from delphi_nlp_2024.quizzes.quizzes import *\n",
    "from delphi_nlp_2024.helpers import *"
   ]
  },
  {
   "cell_type": "markdown",
   "metadata": {},
   "source": [
    "## Two main paradigms for NLP  \n",
    "- Rule based\n",
    "- Statistical NLP (Machine Learning)\n",
    "\n",
    "\n",
    "Med Spacy is a medical specifical NLP package that local teams have contributed. Spacy is a baseline library \n",
    "\n",
    "# NLP with medspaCy\n",
    "This notebook will introduce the Python package `medspaCy`, a toolkit for clinical NLP.\n",
    "\n",
    "# I. Overview\n",
    "Clinical text is very complex and differs from general domain language.\n",
    "- **It is very messy**, with semi-structured formatting from EHR\n",
    "- Clinical documents include **many abbreviations**, some of which are ambiguous\n",
    "- There are **specific tasks** needed in clinical NLP, such as **detecting negation or uncertainty** for concepts in the text\n",
    "\n",
    "## medspacy\n",
    "<img alt=\"MedSpaCy logo\" src=\"https://github.com/medspacy/medspacy/raw/master/images/medspacy_logo.png\">\n",
    "\n",
    "\n",
    "[Medspacy](https://github.com/medspacy/medspacy) is an open-source package maintained by NLP developers at the University of Utah and the US Department of Veterans Affairs. It's built using the popular [spaCy](https://spacy.io/) library and is specifically designed for working with clinical notes.\n",
    "\n",
    "The goal of medSpaCy is to provide flexible, easy-to-use spaCy components for common clinical NLP tasks, such as:\n",
    "\n",
    "- Concept extraction\n",
    "- Negation detection\n",
    "- Document section splitting\n",
    "\n",
    "Here are a couple of papers that used medspaCy:\n",
    "\n",
    "- [Launching into clinical space with medspaCy: a new clinical text processing toolkit in Python\n",
    "](https://www.ncbi.nlm.nih.gov/pmc/articles/PMC8861690/)\n",
    "- [A Natural Language Processing System for National\n",
    "COVID-19 Surveillance in the US Department of Veterans Affairs](https://aclanthology.org/2020.nlpcovid19-acl.10.pdf)\n",
    "- [ReHouSED: A novel measurement of Veteran housing stability using natural language processing](https://www.sciencedirect.com/science/article/pii/S153204642100232X?via%3Dihub)\n",
    "- [Temporary Financial Assistance Reduced The Probability Of Unstable Housing Among Veterans For More Than 1 Year](https://www.healthaffairs.org/doi/full/10.1377/hlthaff.2023.00730)"
   ]
  },
  {
   "cell_type": "code",
   "execution_count": 4,
   "metadata": {},
   "outputs": [],
   "source": [
    "# TODO: get medspacy working locally"
   ]
  },
  {
   "cell_type": "markdown",
   "metadata": {},
   "source": [
    "NLP object is a pipeine for natural language processing. \n",
    "\n",
    "Target matcher is a routine to do simple pattern matching - can use regular expressions.  (pattern=) e.g. "
   ]
  },
  {
   "cell_type": "markdown",
   "metadata": {},
   "source": []
  },
  {
   "cell_type": "markdown",
   "metadata": {},
   "source": [
    "Transformers: architecture of LLMs\n",
    "Many transfoermer based models: \n",
    "- BERT\n",
    "- GPT\n",
    "- LLaMA\n",
    "etc\n"
   ]
  },
  {
   "cell_type": "markdown",
   "metadata": {},
   "source": [
    "Pre-training vs fine-tuning: \n",
    "\n",
    "Pre-training = first phase, learning to \"auto-complete\" (or just generally understand) from a massive amount of unlabeled data (unsupervised learning). Not task specific\n",
    "\n",
    "Fine-tuning = optimize for a task or domain, often done with labels (supervised learning)\n",
    "\n",
    "Notably: tokenization does not always correspond to words (modern LLMs often use sub-word tokenization... smaller subparts that give statistical information. )\n",
    "\n",
    "Tokenizers used: \n",
    "- WordPiece (has ###)\n",
    "- Byte Pair Encoding\n",
    "\n",
    "PyTorch and HuggingFace library\n",
    "\n",
    "Fine-tuning: relies on the concept of transfer learning ... e.g. just learning about general stuff is helpful for transferring to a new area. "
   ]
  },
  {
   "cell_type": "markdown",
   "metadata": {},
   "source": [
    "execute shell commands from within the jupyter notebook in order to install the needed dependencies"
   ]
  },
  {
   "cell_type": "code",
   "execution_count": 5,
   "metadata": {},
   "outputs": [
    {
     "name": "stdout",
     "output_type": "stream",
     "text": [
      "Collecting datasets\n",
      "  Using cached datasets-2.18.0-py3-none-any.whl.metadata (20 kB)\n",
      "Collecting transformers\n",
      "  Using cached transformers-4.38.2-py3-none-any.whl.metadata (130 kB)\n",
      "Requirement already satisfied: filelock in /Users/blocke/anaconda3/envs/py310treereg/lib/python3.10/site-packages (from datasets) (3.13.1)\n",
      "Requirement already satisfied: numpy>=1.17 in /Users/blocke/anaconda3/envs/py310treereg/lib/python3.10/site-packages (from datasets) (1.26.3)\n",
      "Collecting pyarrow>=12.0.0 (from datasets)\n",
      "  Using cached pyarrow-15.0.1-cp310-cp310-macosx_11_0_arm64.whl.metadata (3.0 kB)\n",
      "Collecting pyarrow-hotfix (from datasets)\n",
      "  Using cached pyarrow_hotfix-0.6-py3-none-any.whl.metadata (3.6 kB)\n",
      "Collecting dill<0.3.9,>=0.3.0 (from datasets)\n",
      "  Using cached dill-0.3.8-py3-none-any.whl.metadata (10 kB)\n",
      "Requirement already satisfied: pandas in /Users/blocke/anaconda3/envs/py310treereg/lib/python3.10/site-packages (from datasets) (2.1.4)\n",
      "Requirement already satisfied: requests>=2.19.0 in /Users/blocke/anaconda3/envs/py310treereg/lib/python3.10/site-packages (from datasets) (2.31.0)\n",
      "Requirement already satisfied: tqdm>=4.62.1 in /Users/blocke/anaconda3/envs/py310treereg/lib/python3.10/site-packages (from datasets) (4.65.0)\n",
      "Collecting xxhash (from datasets)\n",
      "  Using cached xxhash-3.4.1-cp310-cp310-macosx_11_0_arm64.whl.metadata (12 kB)\n",
      "Collecting multiprocess (from datasets)\n",
      "  Using cached multiprocess-0.70.16-py310-none-any.whl.metadata (7.2 kB)\n",
      "Collecting fsspec<=2024.2.0,>=2023.1.0 (from fsspec[http]<=2024.2.0,>=2023.1.0->datasets)\n",
      "  Using cached fsspec-2024.2.0-py3-none-any.whl.metadata (6.8 kB)\n",
      "Collecting aiohttp (from datasets)\n",
      "  Using cached aiohttp-3.9.3-cp310-cp310-macosx_11_0_arm64.whl.metadata (7.4 kB)\n",
      "Collecting huggingface-hub>=0.19.4 (from datasets)\n",
      "  Using cached huggingface_hub-0.21.4-py3-none-any.whl.metadata (13 kB)\n",
      "Requirement already satisfied: packaging in /Users/blocke/anaconda3/envs/py310treereg/lib/python3.10/site-packages (from datasets) (23.1)\n",
      "Requirement already satisfied: pyyaml>=5.1 in /Users/blocke/anaconda3/envs/py310treereg/lib/python3.10/site-packages (from datasets) (6.0.1)\n",
      "Requirement already satisfied: regex!=2019.12.17 in /Users/blocke/anaconda3/envs/py310treereg/lib/python3.10/site-packages (from transformers) (2023.12.25)\n",
      "Collecting tokenizers<0.19,>=0.14 (from transformers)\n",
      "  Using cached tokenizers-0.15.2-cp310-cp310-macosx_11_0_arm64.whl.metadata (6.7 kB)\n",
      "Collecting safetensors>=0.4.1 (from transformers)\n",
      "  Using cached safetensors-0.4.2-cp310-cp310-macosx_11_0_arm64.whl.metadata (3.8 kB)\n",
      "Collecting aiosignal>=1.1.2 (from aiohttp->datasets)\n",
      "  Using cached aiosignal-1.3.1-py3-none-any.whl.metadata (4.0 kB)\n",
      "Requirement already satisfied: attrs>=17.3.0 in /Users/blocke/anaconda3/envs/py310treereg/lib/python3.10/site-packages (from aiohttp->datasets) (23.1.0)\n",
      "Collecting frozenlist>=1.1.1 (from aiohttp->datasets)\n",
      "  Using cached frozenlist-1.4.1-cp310-cp310-macosx_11_0_arm64.whl.metadata (12 kB)\n",
      "Collecting multidict<7.0,>=4.5 (from aiohttp->datasets)\n",
      "  Using cached multidict-6.0.5-cp310-cp310-macosx_11_0_arm64.whl.metadata (4.2 kB)\n",
      "Collecting yarl<2.0,>=1.0 (from aiohttp->datasets)\n",
      "  Using cached yarl-1.9.4-cp310-cp310-macosx_11_0_arm64.whl.metadata (31 kB)\n",
      "Collecting async-timeout<5.0,>=4.0 (from aiohttp->datasets)\n",
      "  Using cached async_timeout-4.0.3-py3-none-any.whl.metadata (4.2 kB)\n",
      "Requirement already satisfied: typing-extensions>=3.7.4.3 in /Users/blocke/anaconda3/envs/py310treereg/lib/python3.10/site-packages (from huggingface-hub>=0.19.4->datasets) (4.9.0)\n",
      "Requirement already satisfied: charset-normalizer<4,>=2 in /Users/blocke/anaconda3/envs/py310treereg/lib/python3.10/site-packages (from requests>=2.19.0->datasets) (2.0.4)\n",
      "Requirement already satisfied: idna<4,>=2.5 in /Users/blocke/anaconda3/envs/py310treereg/lib/python3.10/site-packages (from requests>=2.19.0->datasets) (3.4)\n",
      "Requirement already satisfied: urllib3<3,>=1.21.1 in /Users/blocke/anaconda3/envs/py310treereg/lib/python3.10/site-packages (from requests>=2.19.0->datasets) (1.26.18)\n",
      "Requirement already satisfied: certifi>=2017.4.17 in /Users/blocke/anaconda3/envs/py310treereg/lib/python3.10/site-packages (from requests>=2.19.0->datasets) (2023.11.17)\n",
      "Requirement already satisfied: python-dateutil>=2.8.2 in /Users/blocke/anaconda3/envs/py310treereg/lib/python3.10/site-packages (from pandas->datasets) (2.8.2)\n",
      "Requirement already satisfied: pytz>=2020.1 in /Users/blocke/anaconda3/envs/py310treereg/lib/python3.10/site-packages (from pandas->datasets) (2023.3.post1)\n",
      "Requirement already satisfied: tzdata>=2022.1 in /Users/blocke/anaconda3/envs/py310treereg/lib/python3.10/site-packages (from pandas->datasets) (2023.3)\n",
      "Requirement already satisfied: six>=1.5 in /Users/blocke/anaconda3/envs/py310treereg/lib/python3.10/site-packages (from python-dateutil>=2.8.2->pandas->datasets) (1.16.0)\n",
      "Using cached datasets-2.18.0-py3-none-any.whl (510 kB)\n",
      "Using cached transformers-4.38.2-py3-none-any.whl (8.5 MB)\n",
      "Using cached dill-0.3.8-py3-none-any.whl (116 kB)\n",
      "Using cached fsspec-2024.2.0-py3-none-any.whl (170 kB)\n",
      "Using cached aiohttp-3.9.3-cp310-cp310-macosx_11_0_arm64.whl (387 kB)\n",
      "Using cached huggingface_hub-0.21.4-py3-none-any.whl (346 kB)\n",
      "Using cached pyarrow-15.0.1-cp310-cp310-macosx_11_0_arm64.whl (24.2 MB)\n",
      "Using cached safetensors-0.4.2-cp310-cp310-macosx_11_0_arm64.whl (393 kB)\n",
      "Using cached tokenizers-0.15.2-cp310-cp310-macosx_11_0_arm64.whl (2.4 MB)\n",
      "Using cached multiprocess-0.70.16-py310-none-any.whl (134 kB)\n",
      "Using cached pyarrow_hotfix-0.6-py3-none-any.whl (7.9 kB)\n",
      "Using cached xxhash-3.4.1-cp310-cp310-macosx_11_0_arm64.whl (30 kB)\n",
      "Using cached aiosignal-1.3.1-py3-none-any.whl (7.6 kB)\n",
      "Using cached async_timeout-4.0.3-py3-none-any.whl (5.7 kB)\n",
      "Using cached frozenlist-1.4.1-cp310-cp310-macosx_11_0_arm64.whl (52 kB)\n",
      "Using cached multidict-6.0.5-cp310-cp310-macosx_11_0_arm64.whl (30 kB)\n",
      "Using cached yarl-1.9.4-cp310-cp310-macosx_11_0_arm64.whl (79 kB)\n",
      "Installing collected packages: xxhash, safetensors, pyarrow-hotfix, pyarrow, multidict, fsspec, frozenlist, dill, async-timeout, yarl, multiprocess, huggingface-hub, aiosignal, tokenizers, aiohttp, transformers, datasets\n",
      "Successfully installed aiohttp-3.9.3 aiosignal-1.3.1 async-timeout-4.0.3 datasets-2.18.0 dill-0.3.8 frozenlist-1.4.1 fsspec-2024.2.0 huggingface-hub-0.21.4 multidict-6.0.5 multiprocess-0.70.16 pyarrow-15.0.1 pyarrow-hotfix-0.6 safetensors-0.4.2 tokenizers-0.15.2 transformers-4.38.2 xxhash-3.4.1 yarl-1.9.4\n",
      "Requirement already satisfied: torch in /Users/blocke/anaconda3/envs/py310treereg/lib/python3.10/site-packages (2.2.0)\n",
      "Requirement already satisfied: filelock in /Users/blocke/anaconda3/envs/py310treereg/lib/python3.10/site-packages (from torch) (3.13.1)\n",
      "Requirement already satisfied: typing-extensions>=4.8.0 in /Users/blocke/anaconda3/envs/py310treereg/lib/python3.10/site-packages (from torch) (4.9.0)\n",
      "Requirement already satisfied: sympy in /Users/blocke/anaconda3/envs/py310treereg/lib/python3.10/site-packages (from torch) (1.12)\n",
      "Requirement already satisfied: networkx in /Users/blocke/anaconda3/envs/py310treereg/lib/python3.10/site-packages (from torch) (3.1)\n",
      "Requirement already satisfied: jinja2 in /Users/blocke/anaconda3/envs/py310treereg/lib/python3.10/site-packages (from torch) (3.1.2)\n",
      "Requirement already satisfied: fsspec in /Users/blocke/anaconda3/envs/py310treereg/lib/python3.10/site-packages (from torch) (2024.2.0)\n",
      "Requirement already satisfied: MarkupSafe>=2.0 in /Users/blocke/anaconda3/envs/py310treereg/lib/python3.10/site-packages (from jinja2->torch) (2.1.3)\n",
      "Requirement already satisfied: mpmath>=0.19 in /Users/blocke/anaconda3/envs/py310treereg/lib/python3.10/site-packages (from sympy->torch) (1.3.0)\n",
      "Collecting accelerate\n",
      "  Using cached accelerate-0.27.2-py3-none-any.whl.metadata (18 kB)\n",
      "Requirement already satisfied: numpy>=1.17 in /Users/blocke/anaconda3/envs/py310treereg/lib/python3.10/site-packages (from accelerate) (1.26.3)\n",
      "Requirement already satisfied: packaging>=20.0 in /Users/blocke/anaconda3/envs/py310treereg/lib/python3.10/site-packages (from accelerate) (23.1)\n",
      "Requirement already satisfied: psutil in /Users/blocke/anaconda3/envs/py310treereg/lib/python3.10/site-packages (from accelerate) (5.9.0)\n",
      "Requirement already satisfied: pyyaml in /Users/blocke/anaconda3/envs/py310treereg/lib/python3.10/site-packages (from accelerate) (6.0.1)\n",
      "Requirement already satisfied: torch>=1.10.0 in /Users/blocke/anaconda3/envs/py310treereg/lib/python3.10/site-packages (from accelerate) (2.2.0)\n",
      "Requirement already satisfied: huggingface-hub in /Users/blocke/anaconda3/envs/py310treereg/lib/python3.10/site-packages (from accelerate) (0.21.4)\n",
      "Requirement already satisfied: safetensors>=0.3.1 in /Users/blocke/anaconda3/envs/py310treereg/lib/python3.10/site-packages (from accelerate) (0.4.2)\n",
      "Requirement already satisfied: filelock in /Users/blocke/anaconda3/envs/py310treereg/lib/python3.10/site-packages (from torch>=1.10.0->accelerate) (3.13.1)\n",
      "Requirement already satisfied: typing-extensions>=4.8.0 in /Users/blocke/anaconda3/envs/py310treereg/lib/python3.10/site-packages (from torch>=1.10.0->accelerate) (4.9.0)\n",
      "Requirement already satisfied: sympy in /Users/blocke/anaconda3/envs/py310treereg/lib/python3.10/site-packages (from torch>=1.10.0->accelerate) (1.12)\n",
      "Requirement already satisfied: networkx in /Users/blocke/anaconda3/envs/py310treereg/lib/python3.10/site-packages (from torch>=1.10.0->accelerate) (3.1)\n",
      "Requirement already satisfied: jinja2 in /Users/blocke/anaconda3/envs/py310treereg/lib/python3.10/site-packages (from torch>=1.10.0->accelerate) (3.1.2)\n",
      "Requirement already satisfied: fsspec in /Users/blocke/anaconda3/envs/py310treereg/lib/python3.10/site-packages (from torch>=1.10.0->accelerate) (2024.2.0)\n",
      "Requirement already satisfied: requests in /Users/blocke/anaconda3/envs/py310treereg/lib/python3.10/site-packages (from huggingface-hub->accelerate) (2.31.0)\n",
      "Requirement already satisfied: tqdm>=4.42.1 in /Users/blocke/anaconda3/envs/py310treereg/lib/python3.10/site-packages (from huggingface-hub->accelerate) (4.65.0)\n",
      "Requirement already satisfied: MarkupSafe>=2.0 in /Users/blocke/anaconda3/envs/py310treereg/lib/python3.10/site-packages (from jinja2->torch>=1.10.0->accelerate) (2.1.3)\n",
      "Requirement already satisfied: charset-normalizer<4,>=2 in /Users/blocke/anaconda3/envs/py310treereg/lib/python3.10/site-packages (from requests->huggingface-hub->accelerate) (2.0.4)\n",
      "Requirement already satisfied: idna<4,>=2.5 in /Users/blocke/anaconda3/envs/py310treereg/lib/python3.10/site-packages (from requests->huggingface-hub->accelerate) (3.4)\n",
      "Requirement already satisfied: urllib3<3,>=1.21.1 in /Users/blocke/anaconda3/envs/py310treereg/lib/python3.10/site-packages (from requests->huggingface-hub->accelerate) (1.26.18)\n",
      "Requirement already satisfied: certifi>=2017.4.17 in /Users/blocke/anaconda3/envs/py310treereg/lib/python3.10/site-packages (from requests->huggingface-hub->accelerate) (2023.11.17)\n",
      "Requirement already satisfied: mpmath>=0.19 in /Users/blocke/anaconda3/envs/py310treereg/lib/python3.10/site-packages (from sympy->torch>=1.10.0->accelerate) (1.3.0)\n",
      "Using cached accelerate-0.27.2-py3-none-any.whl (279 kB)\n",
      "Installing collected packages: accelerate\n",
      "Successfully installed accelerate-0.27.2\n"
     ]
    }
   ],
   "source": [
    "!pip install datasets transformers \n",
    "!pip install torch\n",
    "!pip install accelerate"
   ]
  },
  {
   "cell_type": "code",
   "execution_count": 6,
   "metadata": {},
   "outputs": [
    {
     "name": "stdout",
     "output_type": "stream",
     "text": [
      "4.38.2\n",
      "2.2.0\n"
     ]
    }
   ],
   "source": [
    "import math\n",
    "\n",
    "import transformers\n",
    "\n",
    "from transformers import AutoTokenizer\n",
    "from transformers import Trainer, TrainingArguments\n",
    "\n",
    "import torch\n",
    "\n",
    "print(transformers.__version__)\n",
    "print(torch.__version__)"
   ]
  },
  {
   "cell_type": "code",
   "execution_count": 7,
   "metadata": {},
   "outputs": [],
   "source": [
    "from datasets import load_dataset\n",
    "\n",
    "# This is really big... it would take us 30+ minutes to train, even on GPU...\n",
    "datasets = load_dataset('wikitext', 'wikitext-2-raw-v1')\n",
    "\n",
    "# datasets = load_dataset(\"text\", data_files={\"train\": path_to_train.txt, \"validation\": path_to_validation.txt}"
   ]
  },
  {
   "cell_type": "code",
   "execution_count": 8,
   "metadata": {},
   "outputs": [
    {
     "data": {
      "text/plain": [
       "{'text': ' The game \\'s battle system , the BliTZ system , is carried over directly from Valkyira Chronicles . During missions , players select each unit using a top @-@ down perspective of the battlefield map : once a character is selected , the player moves the character around the battlefield in third @-@ person . A character can only act once per @-@ turn , but characters can be granted multiple turns at the expense of other characters \\' turns . Each character has a field and distance of movement limited by their Action Gauge . Up to nine characters can be assigned to a single mission . During gameplay , characters will call out if something happens to them , such as their health points ( HP ) getting low or being knocked out by enemy attacks . Each character has specific \" Potentials \" , skills unique to each character . They are divided into \" Personal Potential \" , which are innate skills that remain unaltered unless otherwise dictated by the story and can either help or impede a character , and \" Battle Potentials \" , which are grown throughout the game and always grant boons to a character . To learn Battle Potentials , each character has a unique \" Masters Table \" , a grid @-@ based skill table that can be used to acquire and link different skills . Characters also have Special Abilities that grant them temporary boosts on the battlefield : Kurt can activate \" Direct Command \" and move around the battlefield without depleting his Action Point gauge , the character Reila can shift into her \" Valkyria Form \" and become invincible , while Imca can target multiple enemy units with her heavy weapon . \\n'}"
      ]
     },
     "execution_count": 8,
     "metadata": {},
     "output_type": "execute_result"
    }
   ],
   "source": [
    "datasets[\"train\"][10] # this truncates to make easier - take off later"
   ]
  },
  {
   "cell_type": "code",
   "execution_count": 9,
   "metadata": {},
   "outputs": [],
   "source": [
    "from datasets import ClassLabel\n",
    "import random\n",
    "import pandas as pd\n",
    "from IPython.display import display, HTML\n",
    "\n",
    "def show_random_elements(dataset, num_examples=10):\n",
    "    assert num_examples <= len(dataset), \"Can't pick more elements than there are in the dataset.\"\n",
    "    picks = []\n",
    "    for _ in range(num_examples):\n",
    "        pick = random.randint(0, len(dataset)-1)\n",
    "        while pick in picks:\n",
    "            pick = random.randint(0, len(dataset)-1)\n",
    "        picks.append(pick)\n",
    "\n",
    "    df = pd.DataFrame(dataset[picks])\n",
    "    for column, typ in dataset.features.items():\n",
    "        if isinstance(typ, ClassLabel):\n",
    "            df[column] = df[column].transform(lambda i: typ.names[i])\n",
    "    display(HTML(df.to_html()))"
   ]
  },
  {
   "cell_type": "code",
   "execution_count": 10,
   "metadata": {},
   "outputs": [
    {
     "data": {
      "text/html": [
       "<table border=\"1\" class=\"dataframe\">\n",
       "  <thead>\n",
       "    <tr style=\"text-align: right;\">\n",
       "      <th></th>\n",
       "      <th>text</th>\n",
       "    </tr>\n",
       "  </thead>\n",
       "  <tbody>\n",
       "    <tr>\n",
       "      <th>0</th>\n",
       "      <td></td>\n",
       "    </tr>\n",
       "    <tr>\n",
       "      <th>1</th>\n",
       "      <td>= = = Capture of Hill 199 , 3 October 1951 = = = \\n</td>\n",
       "    </tr>\n",
       "    <tr>\n",
       "      <th>2</th>\n",
       "      <td></td>\n",
       "    </tr>\n",
       "    <tr>\n",
       "      <th>3</th>\n",
       "      <td></td>\n",
       "    </tr>\n",
       "    <tr>\n",
       "      <th>4</th>\n",
       "      <td></td>\n",
       "    </tr>\n",
       "    <tr>\n",
       "      <th>5</th>\n",
       "      <td>= = = Works = = = \\n</td>\n",
       "    </tr>\n",
       "    <tr>\n",
       "      <th>6</th>\n",
       "      <td>The English Chief Officer John Tatton was the first to mention a specifically white bird on Réunion , in 1625 . The French occupied the island from 1646 and onwards , and referred to this bird as the \" solitaire \" . M. Carré of the French East Indies Company described the solitaire in 1699 , explaining the reason for its name : \\n</td>\n",
       "    </tr>\n",
       "    <tr>\n",
       "      <th>7</th>\n",
       "      <td></td>\n",
       "    </tr>\n",
       "    <tr>\n",
       "      <th>8</th>\n",
       "      <td>= = Music video = = \\n</td>\n",
       "    </tr>\n",
       "    <tr>\n",
       "      <th>9</th>\n",
       "      <td>By 1972 , the Portuguese military had changed its strategy , adapting the British / American search and destroy operations utilising small shock troop sweeps . They also initiated a hearts and minds campaign , named the Aldeamentos Programme , which was a forced relocation program . But on November 9 , 1972 , FRELIMO – not numbering more than 8 @,@ 000 fighters – launched a large offensive in Tete Province . The response from the Portuguese military was fierce , leading to reprisal attacks in an attempt to unbalance the local population 's continuing faith in FRELIMO . \\n</td>\n",
       "    </tr>\n",
       "  </tbody>\n",
       "</table>"
      ],
      "text/plain": [
       "<IPython.core.display.HTML object>"
      ]
     },
     "metadata": {},
     "output_type": "display_data"
    }
   ],
   "source": [
    "show_random_elements(datasets[\"train\"])"
   ]
  },
  {
   "cell_type": "code",
   "execution_count": 11,
   "metadata": {},
   "outputs": [
    {
     "name": "stdout",
     "output_type": "stream",
     "text": [
      "<class 'datasets.arrow_dataset.Dataset'>\n",
      "1000\n",
      "100\n"
     ]
    }
   ],
   "source": [
    "print(type(datasets['train']))\n",
    "\n",
    "\n",
    "trimmed_train_dataset = datasets['train'].select(range(1000))\n",
    "trimmed_test_dataset = datasets['test'].select(range(100))\n",
    "\n",
    "print(trimmed_train_dataset.__len__())\n",
    "print(trimmed_test_dataset.__len__())"
   ]
  },
  {
   "cell_type": "markdown",
   "metadata": {},
   "source": [
    "Using BERT base case"
   ]
  },
  {
   "cell_type": "code",
   "execution_count": 12,
   "metadata": {},
   "outputs": [],
   "source": [
    "model_checkpoint = \"bert-base-cased\"\n",
    "tokenizer_checkpoint = \"sgugger/bert-like-tokenizer\""
   ]
  },
  {
   "cell_type": "code",
   "execution_count": 13,
   "metadata": {},
   "outputs": [],
   "source": [
    "tokenizer = AutoTokenizer.from_pretrained(tokenizer_checkpoint)"
   ]
  },
  {
   "cell_type": "code",
   "execution_count": 14,
   "metadata": {},
   "outputs": [],
   "source": [
    "def tokenize_function(examples):\n",
    "    return tokenizer(examples[\"text\"])"
   ]
  },
  {
   "cell_type": "code",
   "execution_count": 15,
   "metadata": {},
   "outputs": [],
   "source": [
    "tokenized_train_dataset = trimmed_train_dataset.map(tokenize_function, batched=True, num_proc=4, remove_columns=[\"text\"])\n",
    "tokenized_test_dataset = trimmed_test_dataset.map(tokenize_function, batched=True, num_proc=4, remove_columns=[\"text\"])"
   ]
  },
  {
   "cell_type": "code",
   "execution_count": 16,
   "metadata": {},
   "outputs": [
    {
     "data": {
      "text/plain": [
       "{'input_ids': [2, 33, 9773, 10627, 4171, 33, 3],\n",
       " 'token_type_ids': [0, 0, 0, 0, 0, 0, 0],\n",
       " 'attention_mask': [1, 1, 1, 1, 1, 1, 1]}"
      ]
     },
     "execution_count": 16,
     "metadata": {},
     "output_type": "execute_result"
    }
   ],
   "source": [
    "tokenized_train_dataset[1]"
   ]
  },
  {
   "cell_type": "code",
   "execution_count": 17,
   "metadata": {},
   "outputs": [],
   "source": [
    "# block_size = tokenizer.model_max_length\n",
    "block_size = 128"
   ]
  },
  {
   "cell_type": "code",
   "execution_count": 18,
   "metadata": {},
   "outputs": [],
   "source": [
    "def group_texts(examples):\n",
    "    # Concatenate all texts.\n",
    "    concatenated_examples = {k: sum(examples[k], []) for k in examples.keys()}\n",
    "    total_length = len(concatenated_examples[list(examples.keys())[0]])\n",
    "    # We drop the small remainder, we could add padding if the model supported it instead of this drop, you can\n",
    "        # customize this part to your needs.\n",
    "    total_length = (total_length // block_size) * block_size\n",
    "    # Split by chunks of max_len.\n",
    "    result = {\n",
    "        k: [t[i : i + block_size] for i in range(0, total_length, block_size)]\n",
    "        for k, t in concatenated_examples.items()\n",
    "    }\n",
    "    result[\"labels\"] = result[\"input_ids\"].copy()\n",
    "    return result"
   ]
  },
  {
   "cell_type": "code",
   "execution_count": 19,
   "metadata": {},
   "outputs": [],
   "source": [
    "lm_train_dataset = tokenized_train_dataset.map(\n",
    "    group_texts,\n",
    "    batched=True,\n",
    "    batch_size=1000,\n",
    "    num_proc=4,\n",
    ")\n",
    "\n",
    "lm_test_dataset = tokenized_test_dataset.map(\n",
    "    group_texts,\n",
    "    batched=True,\n",
    "    batch_size=1000,\n",
    "    num_proc=4,\n",
    ")"
   ]
  },
  {
   "cell_type": "code",
   "execution_count": 20,
   "metadata": {},
   "outputs": [],
   "source": [
    "from transformers import AutoConfig, AutoModelForMaskedLM\n",
    "\n",
    "config = AutoConfig.from_pretrained(model_checkpoint)\n",
    "model = AutoModelForMaskedLM.from_config(config)"
   ]
  },
  {
   "cell_type": "code",
   "execution_count": 21,
   "metadata": {},
   "outputs": [],
   "source": [
    "from transformers import AutoConfig, AutoModelForMaskedLM\n",
    "\n",
    "config = AutoConfig.from_pretrained(model_checkpoint)\n",
    "model = AutoModelForMaskedLM.from_config(config)"
   ]
  },
  {
   "cell_type": "code",
   "execution_count": 22,
   "metadata": {},
   "outputs": [],
   "source": [
    "# we will not push our model to the Internet today... Maybe another day...\n",
    "push_to_hub = False\n",
    "\n",
    "training_args = TrainingArguments(\n",
    "    \"test-clm\",\n",
    "    evaluation_strategy = \"epoch\",\n",
    "    learning_rate=2e-5,\n",
    "    weight_decay=0.01,\n",
    "    push_to_hub=push_to_hub,\n",
    ")"
   ]
  },
  {
   "cell_type": "code",
   "execution_count": 23,
   "metadata": {},
   "outputs": [],
   "source": [
    "from transformers import DataCollatorForLanguageModeling\n",
    "data_collator = DataCollatorForLanguageModeling(tokenizer=tokenizer, mlm_probability=0.15)"
   ]
  },
  {
   "cell_type": "code",
   "execution_count": 24,
   "metadata": {},
   "outputs": [],
   "source": [
    "trainer = Trainer(\n",
    "    model=model,\n",
    "    args=training_args,\n",
    "    train_dataset=lm_train_dataset,\n",
    "    eval_dataset=lm_test_dataset,\n",
    "    data_collator=data_collator,\n",
    ")"
   ]
  },
  {
   "cell_type": "code",
   "execution_count": 25,
   "metadata": {},
   "outputs": [
    {
     "data": {
      "application/vnd.jupyter.widget-view+json": {
       "model_id": "bcf5605ad07c4a2d868eaedeecabd514",
       "version_major": 2,
       "version_minor": 0
      },
      "text/plain": [
       "  0%|          | 0/186 [00:00<?, ?it/s]"
      ]
     },
     "metadata": {},
     "output_type": "display_data"
    },
    {
     "ename": "KeyboardInterrupt",
     "evalue": "",
     "output_type": "error",
     "traceback": [
      "\u001b[0;31m---------------------------------------------------------------------------\u001b[0m",
      "\u001b[0;31mKeyboardInterrupt\u001b[0m                         Traceback (most recent call last)",
      "Cell \u001b[0;32mIn[25], line 1\u001b[0m\n\u001b[0;32m----> 1\u001b[0m \u001b[43mtrainer\u001b[49m\u001b[38;5;241;43m.\u001b[39;49m\u001b[43mtrain\u001b[49m\u001b[43m(\u001b[49m\u001b[43m)\u001b[49m\n",
      "File \u001b[0;32m~/anaconda3/envs/py310treereg/lib/python3.10/site-packages/transformers/trainer.py:1624\u001b[0m, in \u001b[0;36mTrainer.train\u001b[0;34m(self, resume_from_checkpoint, trial, ignore_keys_for_eval, **kwargs)\u001b[0m\n\u001b[1;32m   1622\u001b[0m         hf_hub_utils\u001b[38;5;241m.\u001b[39menable_progress_bars()\n\u001b[1;32m   1623\u001b[0m \u001b[38;5;28;01melse\u001b[39;00m:\n\u001b[0;32m-> 1624\u001b[0m     \u001b[38;5;28;01mreturn\u001b[39;00m \u001b[43minner_training_loop\u001b[49m\u001b[43m(\u001b[49m\n\u001b[1;32m   1625\u001b[0m \u001b[43m        \u001b[49m\u001b[43margs\u001b[49m\u001b[38;5;241;43m=\u001b[39;49m\u001b[43margs\u001b[49m\u001b[43m,\u001b[49m\n\u001b[1;32m   1626\u001b[0m \u001b[43m        \u001b[49m\u001b[43mresume_from_checkpoint\u001b[49m\u001b[38;5;241;43m=\u001b[39;49m\u001b[43mresume_from_checkpoint\u001b[49m\u001b[43m,\u001b[49m\n\u001b[1;32m   1627\u001b[0m \u001b[43m        \u001b[49m\u001b[43mtrial\u001b[49m\u001b[38;5;241;43m=\u001b[39;49m\u001b[43mtrial\u001b[49m\u001b[43m,\u001b[49m\n\u001b[1;32m   1628\u001b[0m \u001b[43m        \u001b[49m\u001b[43mignore_keys_for_eval\u001b[49m\u001b[38;5;241;43m=\u001b[39;49m\u001b[43mignore_keys_for_eval\u001b[49m\u001b[43m,\u001b[49m\n\u001b[1;32m   1629\u001b[0m \u001b[43m    \u001b[49m\u001b[43m)\u001b[49m\n",
      "File \u001b[0;32m~/anaconda3/envs/py310treereg/lib/python3.10/site-packages/transformers/trainer.py:1961\u001b[0m, in \u001b[0;36mTrainer._inner_training_loop\u001b[0;34m(self, batch_size, args, resume_from_checkpoint, trial, ignore_keys_for_eval)\u001b[0m\n\u001b[1;32m   1958\u001b[0m     \u001b[38;5;28mself\u001b[39m\u001b[38;5;241m.\u001b[39mcontrol \u001b[38;5;241m=\u001b[39m \u001b[38;5;28mself\u001b[39m\u001b[38;5;241m.\u001b[39mcallback_handler\u001b[38;5;241m.\u001b[39mon_step_begin(args, \u001b[38;5;28mself\u001b[39m\u001b[38;5;241m.\u001b[39mstate, \u001b[38;5;28mself\u001b[39m\u001b[38;5;241m.\u001b[39mcontrol)\n\u001b[1;32m   1960\u001b[0m \u001b[38;5;28;01mwith\u001b[39;00m \u001b[38;5;28mself\u001b[39m\u001b[38;5;241m.\u001b[39maccelerator\u001b[38;5;241m.\u001b[39maccumulate(model):\n\u001b[0;32m-> 1961\u001b[0m     tr_loss_step \u001b[38;5;241m=\u001b[39m \u001b[38;5;28;43mself\u001b[39;49m\u001b[38;5;241;43m.\u001b[39;49m\u001b[43mtraining_step\u001b[49m\u001b[43m(\u001b[49m\u001b[43mmodel\u001b[49m\u001b[43m,\u001b[49m\u001b[43m \u001b[49m\u001b[43minputs\u001b[49m\u001b[43m)\u001b[49m\n\u001b[1;32m   1963\u001b[0m \u001b[38;5;28;01mif\u001b[39;00m (\n\u001b[1;32m   1964\u001b[0m     args\u001b[38;5;241m.\u001b[39mlogging_nan_inf_filter\n\u001b[1;32m   1965\u001b[0m     \u001b[38;5;129;01mand\u001b[39;00m \u001b[38;5;129;01mnot\u001b[39;00m is_torch_tpu_available()\n\u001b[1;32m   1966\u001b[0m     \u001b[38;5;129;01mand\u001b[39;00m (torch\u001b[38;5;241m.\u001b[39misnan(tr_loss_step) \u001b[38;5;129;01mor\u001b[39;00m torch\u001b[38;5;241m.\u001b[39misinf(tr_loss_step))\n\u001b[1;32m   1967\u001b[0m ):\n\u001b[1;32m   1968\u001b[0m     \u001b[38;5;66;03m# if loss is nan or inf simply add the average of previous logged losses\u001b[39;00m\n\u001b[1;32m   1969\u001b[0m     tr_loss \u001b[38;5;241m+\u001b[39m\u001b[38;5;241m=\u001b[39m tr_loss \u001b[38;5;241m/\u001b[39m (\u001b[38;5;241m1\u001b[39m \u001b[38;5;241m+\u001b[39m \u001b[38;5;28mself\u001b[39m\u001b[38;5;241m.\u001b[39mstate\u001b[38;5;241m.\u001b[39mglobal_step \u001b[38;5;241m-\u001b[39m \u001b[38;5;28mself\u001b[39m\u001b[38;5;241m.\u001b[39m_globalstep_last_logged)\n",
      "File \u001b[0;32m~/anaconda3/envs/py310treereg/lib/python3.10/site-packages/transformers/trainer.py:2911\u001b[0m, in \u001b[0;36mTrainer.training_step\u001b[0;34m(self, model, inputs)\u001b[0m\n\u001b[1;32m   2909\u001b[0m         scaled_loss\u001b[38;5;241m.\u001b[39mbackward()\n\u001b[1;32m   2910\u001b[0m \u001b[38;5;28;01melse\u001b[39;00m:\n\u001b[0;32m-> 2911\u001b[0m     \u001b[38;5;28;43mself\u001b[39;49m\u001b[38;5;241;43m.\u001b[39;49m\u001b[43maccelerator\u001b[49m\u001b[38;5;241;43m.\u001b[39;49m\u001b[43mbackward\u001b[49m\u001b[43m(\u001b[49m\u001b[43mloss\u001b[49m\u001b[43m)\u001b[49m\n\u001b[1;32m   2913\u001b[0m \u001b[38;5;28;01mreturn\u001b[39;00m loss\u001b[38;5;241m.\u001b[39mdetach() \u001b[38;5;241m/\u001b[39m \u001b[38;5;28mself\u001b[39m\u001b[38;5;241m.\u001b[39margs\u001b[38;5;241m.\u001b[39mgradient_accumulation_steps\n",
      "File \u001b[0;32m~/anaconda3/envs/py310treereg/lib/python3.10/site-packages/accelerate/accelerator.py:1966\u001b[0m, in \u001b[0;36mAccelerator.backward\u001b[0;34m(self, loss, **kwargs)\u001b[0m\n\u001b[1;32m   1964\u001b[0m     \u001b[38;5;28mself\u001b[39m\u001b[38;5;241m.\u001b[39mscaler\u001b[38;5;241m.\u001b[39mscale(loss)\u001b[38;5;241m.\u001b[39mbackward(\u001b[38;5;241m*\u001b[39m\u001b[38;5;241m*\u001b[39mkwargs)\n\u001b[1;32m   1965\u001b[0m \u001b[38;5;28;01melse\u001b[39;00m:\n\u001b[0;32m-> 1966\u001b[0m     \u001b[43mloss\u001b[49m\u001b[38;5;241;43m.\u001b[39;49m\u001b[43mbackward\u001b[49m\u001b[43m(\u001b[49m\u001b[38;5;241;43m*\u001b[39;49m\u001b[38;5;241;43m*\u001b[39;49m\u001b[43mkwargs\u001b[49m\u001b[43m)\u001b[49m\n",
      "File \u001b[0;32m~/anaconda3/envs/py310treereg/lib/python3.10/site-packages/torch/_tensor.py:522\u001b[0m, in \u001b[0;36mTensor.backward\u001b[0;34m(self, gradient, retain_graph, create_graph, inputs)\u001b[0m\n\u001b[1;32m    512\u001b[0m \u001b[38;5;28;01mif\u001b[39;00m has_torch_function_unary(\u001b[38;5;28mself\u001b[39m):\n\u001b[1;32m    513\u001b[0m     \u001b[38;5;28;01mreturn\u001b[39;00m handle_torch_function(\n\u001b[1;32m    514\u001b[0m         Tensor\u001b[38;5;241m.\u001b[39mbackward,\n\u001b[1;32m    515\u001b[0m         (\u001b[38;5;28mself\u001b[39m,),\n\u001b[0;32m   (...)\u001b[0m\n\u001b[1;32m    520\u001b[0m         inputs\u001b[38;5;241m=\u001b[39minputs,\n\u001b[1;32m    521\u001b[0m     )\n\u001b[0;32m--> 522\u001b[0m \u001b[43mtorch\u001b[49m\u001b[38;5;241;43m.\u001b[39;49m\u001b[43mautograd\u001b[49m\u001b[38;5;241;43m.\u001b[39;49m\u001b[43mbackward\u001b[49m\u001b[43m(\u001b[49m\n\u001b[1;32m    523\u001b[0m \u001b[43m    \u001b[49m\u001b[38;5;28;43mself\u001b[39;49m\u001b[43m,\u001b[49m\u001b[43m \u001b[49m\u001b[43mgradient\u001b[49m\u001b[43m,\u001b[49m\u001b[43m \u001b[49m\u001b[43mretain_graph\u001b[49m\u001b[43m,\u001b[49m\u001b[43m \u001b[49m\u001b[43mcreate_graph\u001b[49m\u001b[43m,\u001b[49m\u001b[43m \u001b[49m\u001b[43minputs\u001b[49m\u001b[38;5;241;43m=\u001b[39;49m\u001b[43minputs\u001b[49m\n\u001b[1;32m    524\u001b[0m \u001b[43m\u001b[49m\u001b[43m)\u001b[49m\n",
      "File \u001b[0;32m~/anaconda3/envs/py310treereg/lib/python3.10/site-packages/torch/autograd/__init__.py:266\u001b[0m, in \u001b[0;36mbackward\u001b[0;34m(tensors, grad_tensors, retain_graph, create_graph, grad_variables, inputs)\u001b[0m\n\u001b[1;32m    261\u001b[0m     retain_graph \u001b[38;5;241m=\u001b[39m create_graph\n\u001b[1;32m    263\u001b[0m \u001b[38;5;66;03m# The reason we repeat the same comment below is that\u001b[39;00m\n\u001b[1;32m    264\u001b[0m \u001b[38;5;66;03m# some Python versions print out the first line of a multi-line function\u001b[39;00m\n\u001b[1;32m    265\u001b[0m \u001b[38;5;66;03m# calls in the traceback and some print out the last line\u001b[39;00m\n\u001b[0;32m--> 266\u001b[0m \u001b[43mVariable\u001b[49m\u001b[38;5;241;43m.\u001b[39;49m\u001b[43m_execution_engine\u001b[49m\u001b[38;5;241;43m.\u001b[39;49m\u001b[43mrun_backward\u001b[49m\u001b[43m(\u001b[49m\u001b[43m  \u001b[49m\u001b[38;5;66;43;03m# Calls into the C++ engine to run the backward pass\u001b[39;49;00m\n\u001b[1;32m    267\u001b[0m \u001b[43m    \u001b[49m\u001b[43mtensors\u001b[49m\u001b[43m,\u001b[49m\n\u001b[1;32m    268\u001b[0m \u001b[43m    \u001b[49m\u001b[43mgrad_tensors_\u001b[49m\u001b[43m,\u001b[49m\n\u001b[1;32m    269\u001b[0m \u001b[43m    \u001b[49m\u001b[43mretain_graph\u001b[49m\u001b[43m,\u001b[49m\n\u001b[1;32m    270\u001b[0m \u001b[43m    \u001b[49m\u001b[43mcreate_graph\u001b[49m\u001b[43m,\u001b[49m\n\u001b[1;32m    271\u001b[0m \u001b[43m    \u001b[49m\u001b[43minputs\u001b[49m\u001b[43m,\u001b[49m\n\u001b[1;32m    272\u001b[0m \u001b[43m    \u001b[49m\u001b[43mallow_unreachable\u001b[49m\u001b[38;5;241;43m=\u001b[39;49m\u001b[38;5;28;43;01mTrue\u001b[39;49;00m\u001b[43m,\u001b[49m\n\u001b[1;32m    273\u001b[0m \u001b[43m    \u001b[49m\u001b[43maccumulate_grad\u001b[49m\u001b[38;5;241;43m=\u001b[39;49m\u001b[38;5;28;43;01mTrue\u001b[39;49;00m\u001b[43m,\u001b[49m\n\u001b[1;32m    274\u001b[0m \u001b[43m\u001b[49m\u001b[43m)\u001b[49m\n",
      "\u001b[0;31mKeyboardInterrupt\u001b[0m: "
     ]
    }
   ],
   "source": [
    "trainer.train()"
   ]
  },
  {
   "cell_type": "code",
   "execution_count": null,
   "metadata": {},
   "outputs": [],
   "source": [
    "eval_results = trainer.evaluate()\n",
    "print(f\"Perplexity: {math.exp(eval_results['eval_loss']):.2f}\")"
   ]
  },
  {
   "cell_type": "code",
   "execution_count": null,
   "metadata": {},
   "outputs": [],
   "source": [
    "pred_model = transformers.pipeline('fill-mask', model = model, tokenizer = tokenizer, device = torch.cuda.current_device())\n",
    "\n",
    "text = \"The Milky Way is a [MASK] galaxy.\"\n",
    "\n",
    "preds = pred_model(text)\n",
    "\n",
    "for pred in preds:\n",
    "   print(f\">>> {pred['sequence']}\")"
   ]
  },
  {
   "cell_type": "markdown",
   "metadata": {},
   "source": [
    "Hyperparameter search: \n",
    "\n",
    "Can use Optuna \n",
    "\n",
    "HuggingFace is the go-to place for models etc. \n",
    "\n",
    "Clinical BioBert best for most clinical use cases"
   ]
  }
 ],
 "metadata": {
  "kernelspec": {
   "display_name": "Python 3",
   "language": "python",
   "name": "python3"
  },
  "language_info": {
   "codemirror_mode": {
    "name": "ipython",
    "version": 3
   },
   "file_extension": ".py",
   "mimetype": "text/x-python",
   "name": "python",
   "nbconvert_exporter": "python",
   "pygments_lexer": "ipython3",
   "version": "3.10.13"
  }
 },
 "nbformat": 4,
 "nbformat_minor": 2
}
